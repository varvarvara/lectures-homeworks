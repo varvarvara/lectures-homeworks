{
  "nbformat": 4,
  "nbformat_minor": 0,
  "metadata": {
    "colab": {
      "provenance": []
    },
    "kernelspec": {
      "name": "python3",
      "display_name": "Python 3"
    },
    "language_info": {
      "name": "python"
    }
  },
  "cells": [
    {
      "cell_type": "code",
      "execution_count": null,
      "metadata": {
        "colab": {
          "base_uri": "https://localhost:8080/"
        },
        "id": "Tz33zLoR1s4b",
        "outputId": "23556a85-85d1-469c-f3ed-7198e808e7fc"
      },
      "outputs": [
        {
          "output_type": "stream",
          "name": "stdout",
          "text": [
            "Do you want to be an actor in a film?[Yes/No]:yes\n",
            "Do you want to play Halk or Loki?loki\n",
            "Who is your favourite parent: mom or dad?dad\n",
            "Go home\n"
          ]
        }
      ],
      "source": [
        "desire: str = input(\"Do you want to be an actor in a film?[Yes/No]:\")\n",
        "\n",
        "if desire.lower() == \"yes\":\n",
        "    role: str = str(input(\"Do you want to play Halk or Loki?\"))\n",
        "    if role.lower() == \"halk\":\n",
        "        biceps = input(\"What is the size of your biceps? (put a number):\")\n",
        "        if biceps.isdigit():  # сначала проверяем что это цифры\n",
        "            biceps = int(biceps)  # потом конвертируем в число\n",
        "            if biceps < 60:\n",
        "                print(\"Go home, man...\")\n",
        "            else:  # biceps >= 60\n",
        "                print(\"You are in, man.\")\n",
        "        else:\n",
        "            print(\"Don't use the word\")\n",
        "    elif role.lower() == \"loki\":\n",
        "        parent: str = str(input(\"Who is your favourite parent: mom or dad?\"))\n",
        "        if parent.lower() == \"dad\":\n",
        "            print(\"Go home\")\n",
        "        elif parent.lower() == \"mom\":\n",
        "            print(\"Go to dad and ask him whom you should love more...\")\n",
        "        else:\n",
        "            print(\"You have only two variants...\")\n",
        "elif desire.lower() == \"no\":\n",
        "    print(\"Bye and go to hell!\")\n",
        "else:\n",
        "    print(\"Stupid bitch...\")\n"
      ]
    }
  ]
}
