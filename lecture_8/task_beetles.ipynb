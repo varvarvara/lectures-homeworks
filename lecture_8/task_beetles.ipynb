{
  "nbformat": 4,
  "nbformat_minor": 0,
  "metadata": {
    "colab": {
      "provenance": []
    },
    "kernelspec": {
      "name": "python3",
      "display_name": "Python 3"
    },
    "language_info": {
      "name": "python"
    }
  },
  "cells": [
    {
      "cell_type": "code",
      "source": [
        "import random\n",
        "from enum import StrEnum\n",
        "from threading import ExceptHookArgs\n",
        "from typing import Self\n",
        "\n",
        "from rich.console import Console\n",
        "from rich.table import Table\n",
        "\n",
        "console = Console()\n",
        "\n",
        "class Names(StrEnum):\n",
        "    JOHN = \"John Lennon\"\n",
        "    PAUL = \"Paul McCartney\"\n",
        "    GEORGE = \"George Harrison\"\n",
        "    RINGO = \"Ringo Starr\"\n",
        "\n",
        "\n",
        "class Beetle:\n",
        "    health_points: int\n",
        "    name: Names\n",
        "\n",
        "    def __init__(\n",
        "        self,\n",
        "        health_points: int = 100,\n",
        "        max_health_points: int = 100,\n",
        "        name: Names = Names.JOHN,\n",
        "    ) -> None:\n",
        "        self.health_points = health_points\n",
        "        self.max_health_points = max_health_points\n",
        "        self.name = name\n",
        "\n",
        "    def __eq__(self, other: Self) -> bool:\n",
        "        return self.health_points == other.health_points\n",
        "\n",
        "    def __lt__(self, other: Self) -> bool:\n",
        "        return self.health_points < other.health_points\n",
        "\n",
        "    def __le__(self, other: Self) -> bool:\n",
        "        return self.health_points <= other.health_points\n",
        "\n",
        "    def __str__(self) -> str:\n",
        "        return f'Beetle(name=\"{self.name}\", hp={self.health_points!r})'\n",
        "\n",
        "    def styling(self) -> str:\n",
        "        if self.name is Names.JOHN:\n",
        "            return \"in Johny style\"\n",
        "        elif self.name is Names.PAUL:\n",
        "            return \"in McCartney style\"\n",
        "        return \"without style\"\n",
        "\n",
        "    def alive(self):\n",
        "        return self.hp > 0\n",
        "\n",
        "    def attack(self, other: Self) -> None:\n",
        "        damage = 10\n",
        "        other.health_points -= damage\n",
        "        console.print(f\"[red3]{self.name}[/red3] attacks [dodger_blue3]{other.name}[/dodger_blue3] for {damage} damage\")\n",
        "        if other.health_points <= 0:\n",
        "            other.health_points = 0\n",
        "            console.print(f\"[dark_red]{other.name} died![/dark_red]\")\n",
        "            self.health_points = min(self.max_health_points, self.health_points + 10)\n",
        "            console.print(f\"[gold1]{self.name}[/gold1] rewarded with [gold3] {10} [/gold3] health points\")\n",
        "\n",
        "class BeetlesArmy:\n",
        "    beetles_list: list[Beetle]\n",
        "    beetles_name: Names\n",
        "    beetles_max_health_points: int\n",
        "\n",
        "    def __init__(\n",
        "        self,\n",
        "        beetles_name: Names,\n",
        "        beetles_army_size: int = 20,\n",
        "        beetles_max_health_points: int = 100,\n",
        "    ):\n",
        "        self.beetles_list = []\n",
        "        self.beetles_name = beetles_name\n",
        "        self.beetles_max_health_points = beetles_max_health_points\n",
        "\n",
        "        for _ in range(beetles_army_size):\n",
        "            beetle = Beetle(\n",
        "                health_points=random.randint(1, self.beetles_max_health_points),\n",
        "                name=self.beetles_name,\n",
        "            )\n",
        "            self.beetles_list.append(beetle)\n",
        "\n",
        "    def __len__(self) -> int:\n",
        "        return len(self.beetles_list)\n",
        "\n",
        "    def __add__(self, other: Self) -> Self:\n",
        "        if self.beetles_name != other.beetles_name:\n",
        "            raise ValueError(\"[turquoise4]Cannot make two different-named beetles friends[/turquoise4]\")\n",
        "        new_beetles_list: list[Beetle] = self.beetles_list + other.beetles_list\n",
        "        new_army = self.__class__(\n",
        "            beetles_army_size=1,\n",
        "            beetles_name=self.beetles_name,\n",
        "            beetles_max_health_points=self.beetles_max_health_points,\n",
        "        )\n",
        "        new_army.beetles_list = new_beetles_list\n",
        "        return new_army\n",
        "\n",
        "    def print_army_listing(self):\n",
        "        for beetle in self.beetles_list:\n",
        "            print(beetle)\n",
        "\n",
        "    def alive_beetles(self):\n",
        "        return [beetle for beetle in self.beetles_list if beetle.health_points > 0] #возвращает список со всеми выжившими\n",
        "\n",
        "    def is_defeated(self) -> bool:\n",
        "        return len(self.alive_beetles()) == 0\n",
        "\n",
        "    def attack(self, other: Self):\n",
        "        self.beetles_list[0].attack(other.beetles_list[0])\n",
        "\n",
        "        if other.beetles_list[0].health_points <= 0:\n",
        "            other.beetles_list[0].health_points = 0\n",
        "            self.beetles_list[0].health_points += 10  # reward\n",
        "            other.beetles_list.pop(0)\n",
        "\n",
        "        other.beetles_list[0].attack(self.beetles_list[0])\n",
        "\n",
        "        if self.beetles_list[0].health_points <= 0:\n",
        "            self.beetles_list[0].health_points = 0\n",
        "            other.beetles_list.pop(0) #убираем\n",
        "\n",
        "\n",
        "    def battle(self, other: Self):\n",
        "        round_num = 1\n",
        "        while self.alive_beetles() and other.alive_beetles():\n",
        "            console.print(f\"\\n [orange3]--- ROUND {round_num} ---[/orange3]\")\n",
        "            self.attack(other)\n",
        "            round_num += 1\n",
        "\n",
        "        if self.total_health() > other.total_health():\n",
        "            console.print(f\"\\n[chartreuse3]{self.beetles_name.value} wins![/chartreuse3]\")\n",
        "        elif self.total_health() < other.total_health():\n",
        "            console.print(f\"\\n[chartreuse3]{other.beetles_name.value} wins![/chartreuse3]\")\n",
        "        else:\n",
        "            console.print(\"\\n[magenta]It's a tie![/magenta]\")\n",
        "\n",
        "    def total_health(self):\n",
        "        return sum(beetles.health_points for beetles in self.beetles_list)\n",
        "\n",
        "    # Army comparisons\n",
        "    def __gt__(self, other: Self):\n",
        "        return self.total_health() > other.total_health()\n",
        "\n",
        "    def __lt__(self, other: Self):\n",
        "        return self.total_health() < other.total_health()\n",
        "\n",
        "    def __eq__(self, other: Self):\n",
        "        return self.total_health() == other.total_health()\n",
        "\n",
        "if __name__ == \"__main__\":\n",
        "    warrior_1 = Names[input(f\"Enter first army name (JOHN/PAUL/GEORGE/RINGO):\").upper()]\n",
        "    num_1 = int(input(f\"Enter first army size: \"))\n",
        "\n",
        "    warrior_2 = Names[input(f\"Enter second army name (JOHN/PAUL/GEORGE/RINGO):\").upper()]\n",
        "    num_2 = int(input(f\"Enter second army size: \"))\n",
        "\n",
        "    if warrior_1 == warrior_2:\n",
        "        print(\"Both armies have the same name! Try again.\")\n",
        "        exit()\n",
        "\n",
        "    army1 = BeetlesArmy(beetles_name=warrior_1, beetles_army_size=num_1)\n",
        "    army2 = BeetlesArmy(beetles_name=warrior_2, beetles_army_size=num_2)\n",
        "\n",
        "    print('[red1]ARMY 1[/red1]')\n",
        "\n",
        "    army1.print_army_listing()\n",
        "    print('')\n",
        "\n",
        "    print('[slate_blue1]ARMY 2[/slate_blue1]')\n",
        "    army1.print_army_listing()\n",
        "    print('')\n",
        "\n",
        "    army1.battle(army2)"
      ],
      "metadata": {
        "id": "ce3ysSr72s9m",
        "colab": {
          "base_uri": "https://localhost:8080/",
          "height": 1000
        },
        "outputId": "237c944f-cfd5-4e20-f01e-25d77eb3cb50"
      },
      "execution_count": 2,
      "outputs": [
        {
          "output_type": "stream",
          "name": "stdout",
          "text": [
            "Enter first army name (JOHN/PAUL/GEORGE/RINGO):JOHN\n",
            "Enter first army size: 40\n",
            "Enter second army name (JOHN/PAUL/GEORGE/RINGO):RINGO\n",
            "Enter second army size: 30\n",
            "[red1]ARMY 1[/red1]\n",
            "Beetle(name=\"John Lennon\", hp=17)\n",
            "Beetle(name=\"John Lennon\", hp=50)\n",
            "Beetle(name=\"John Lennon\", hp=20)\n",
            "Beetle(name=\"John Lennon\", hp=77)\n",
            "Beetle(name=\"John Lennon\", hp=61)\n",
            "Beetle(name=\"John Lennon\", hp=46)\n",
            "Beetle(name=\"John Lennon\", hp=33)\n",
            "Beetle(name=\"John Lennon\", hp=18)\n",
            "Beetle(name=\"John Lennon\", hp=77)\n",
            "Beetle(name=\"John Lennon\", hp=56)\n",
            "Beetle(name=\"John Lennon\", hp=83)\n",
            "Beetle(name=\"John Lennon\", hp=24)\n",
            "Beetle(name=\"John Lennon\", hp=3)\n",
            "Beetle(name=\"John Lennon\", hp=67)\n",
            "Beetle(name=\"John Lennon\", hp=81)\n",
            "Beetle(name=\"John Lennon\", hp=65)\n",
            "Beetle(name=\"John Lennon\", hp=4)\n",
            "Beetle(name=\"John Lennon\", hp=83)\n",
            "Beetle(name=\"John Lennon\", hp=47)\n",
            "Beetle(name=\"John Lennon\", hp=13)\n",
            "Beetle(name=\"John Lennon\", hp=38)\n",
            "Beetle(name=\"John Lennon\", hp=15)\n",
            "Beetle(name=\"John Lennon\", hp=74)\n",
            "Beetle(name=\"John Lennon\", hp=75)\n",
            "Beetle(name=\"John Lennon\", hp=51)\n",
            "Beetle(name=\"John Lennon\", hp=20)\n",
            "Beetle(name=\"John Lennon\", hp=11)\n",
            "Beetle(name=\"John Lennon\", hp=74)\n",
            "Beetle(name=\"John Lennon\", hp=25)\n",
            "Beetle(name=\"John Lennon\", hp=63)\n",
            "Beetle(name=\"John Lennon\", hp=19)\n",
            "Beetle(name=\"John Lennon\", hp=40)\n",
            "Beetle(name=\"John Lennon\", hp=31)\n",
            "Beetle(name=\"John Lennon\", hp=4)\n",
            "Beetle(name=\"John Lennon\", hp=70)\n",
            "Beetle(name=\"John Lennon\", hp=28)\n",
            "Beetle(name=\"John Lennon\", hp=100)\n",
            "Beetle(name=\"John Lennon\", hp=61)\n",
            "Beetle(name=\"John Lennon\", hp=42)\n",
            "Beetle(name=\"John Lennon\", hp=99)\n",
            "\n",
            "[slate_blue1]ARMY 2[/slate_blue1]\n",
            "Beetle(name=\"John Lennon\", hp=17)\n",
            "Beetle(name=\"John Lennon\", hp=50)\n",
            "Beetle(name=\"John Lennon\", hp=20)\n",
            "Beetle(name=\"John Lennon\", hp=77)\n",
            "Beetle(name=\"John Lennon\", hp=61)\n",
            "Beetle(name=\"John Lennon\", hp=46)\n",
            "Beetle(name=\"John Lennon\", hp=33)\n",
            "Beetle(name=\"John Lennon\", hp=18)\n",
            "Beetle(name=\"John Lennon\", hp=77)\n",
            "Beetle(name=\"John Lennon\", hp=56)\n",
            "Beetle(name=\"John Lennon\", hp=83)\n",
            "Beetle(name=\"John Lennon\", hp=24)\n",
            "Beetle(name=\"John Lennon\", hp=3)\n",
            "Beetle(name=\"John Lennon\", hp=67)\n",
            "Beetle(name=\"John Lennon\", hp=81)\n",
            "Beetle(name=\"John Lennon\", hp=65)\n",
            "Beetle(name=\"John Lennon\", hp=4)\n",
            "Beetle(name=\"John Lennon\", hp=83)\n",
            "Beetle(name=\"John Lennon\", hp=47)\n",
            "Beetle(name=\"John Lennon\", hp=13)\n",
            "Beetle(name=\"John Lennon\", hp=38)\n",
            "Beetle(name=\"John Lennon\", hp=15)\n",
            "Beetle(name=\"John Lennon\", hp=74)\n",
            "Beetle(name=\"John Lennon\", hp=75)\n",
            "Beetle(name=\"John Lennon\", hp=51)\n",
            "Beetle(name=\"John Lennon\", hp=20)\n",
            "Beetle(name=\"John Lennon\", hp=11)\n",
            "Beetle(name=\"John Lennon\", hp=74)\n",
            "Beetle(name=\"John Lennon\", hp=25)\n",
            "Beetle(name=\"John Lennon\", hp=63)\n",
            "Beetle(name=\"John Lennon\", hp=19)\n",
            "Beetle(name=\"John Lennon\", hp=40)\n",
            "Beetle(name=\"John Lennon\", hp=31)\n",
            "Beetle(name=\"John Lennon\", hp=4)\n",
            "Beetle(name=\"John Lennon\", hp=70)\n",
            "Beetle(name=\"John Lennon\", hp=28)\n",
            "Beetle(name=\"John Lennon\", hp=100)\n",
            "Beetle(name=\"John Lennon\", hp=61)\n",
            "Beetle(name=\"John Lennon\", hp=42)\n",
            "Beetle(name=\"John Lennon\", hp=99)\n",
            "\n"
          ]
        },
        {
          "output_type": "display_data",
          "data": {
            "text/plain": [
              "\n",
              " \u001b[38;5;172m--- ROUND \u001b[0m\u001b[1;38;5;172m1\u001b[0m\u001b[38;5;172m ---\u001b[0m\n"
            ],
            "text/html": [
              "<pre style=\"white-space:pre;overflow-x:auto;line-height:normal;font-family:Menlo,'DejaVu Sans Mono',consolas,'Courier New',monospace\">\n",
              " <span style=\"color: #d78700; text-decoration-color: #d78700\">--- ROUND </span><span style=\"color: #d78700; text-decoration-color: #d78700; font-weight: bold\">1</span><span style=\"color: #d78700; text-decoration-color: #d78700\"> ---</span>\n",
              "</pre>\n"
            ]
          },
          "metadata": {}
        },
        {
          "output_type": "display_data",
          "data": {
            "text/plain": [
              "\u001b[38;5;160mJohn Lennon\u001b[0m attacks \u001b[38;5;26mRingo Starr\u001b[0m for \u001b[1;36m10\u001b[0m damage\n"
            ],
            "text/html": [
              "<pre style=\"white-space:pre;overflow-x:auto;line-height:normal;font-family:Menlo,'DejaVu Sans Mono',consolas,'Courier New',monospace\"><span style=\"color: #d70000; text-decoration-color: #d70000\">John Lennon</span> attacks <span style=\"color: #005fd7; text-decoration-color: #005fd7\">Ringo Starr</span> for <span style=\"color: #008080; text-decoration-color: #008080; font-weight: bold\">10</span> damage\n",
              "</pre>\n"
            ]
          },
          "metadata": {}
        },
        {
          "output_type": "display_data",
          "data": {
            "text/plain": [
              "\u001b[38;5;160mRingo Starr\u001b[0m attacks \u001b[38;5;26mJohn Lennon\u001b[0m for \u001b[1;36m10\u001b[0m damage\n"
            ],
            "text/html": [
              "<pre style=\"white-space:pre;overflow-x:auto;line-height:normal;font-family:Menlo,'DejaVu Sans Mono',consolas,'Courier New',monospace\"><span style=\"color: #d70000; text-decoration-color: #d70000\">Ringo Starr</span> attacks <span style=\"color: #005fd7; text-decoration-color: #005fd7\">John Lennon</span> for <span style=\"color: #008080; text-decoration-color: #008080; font-weight: bold\">10</span> damage\n",
              "</pre>\n"
            ]
          },
          "metadata": {}
        },
        {
          "output_type": "display_data",
          "data": {
            "text/plain": [
              "\n",
              " \u001b[38;5;172m--- ROUND \u001b[0m\u001b[1;38;5;172m2\u001b[0m\u001b[38;5;172m ---\u001b[0m\n"
            ],
            "text/html": [
              "<pre style=\"white-space:pre;overflow-x:auto;line-height:normal;font-family:Menlo,'DejaVu Sans Mono',consolas,'Courier New',monospace\">\n",
              " <span style=\"color: #d78700; text-decoration-color: #d78700\">--- ROUND </span><span style=\"color: #d78700; text-decoration-color: #d78700; font-weight: bold\">2</span><span style=\"color: #d78700; text-decoration-color: #d78700\"> ---</span>\n",
              "</pre>\n"
            ]
          },
          "metadata": {}
        },
        {
          "output_type": "display_data",
          "data": {
            "text/plain": [
              "\u001b[38;5;160mJohn Lennon\u001b[0m attacks \u001b[38;5;26mRingo Starr\u001b[0m for \u001b[1;36m10\u001b[0m damage\n"
            ],
            "text/html": [
              "<pre style=\"white-space:pre;overflow-x:auto;line-height:normal;font-family:Menlo,'DejaVu Sans Mono',consolas,'Courier New',monospace\"><span style=\"color: #d70000; text-decoration-color: #d70000\">John Lennon</span> attacks <span style=\"color: #005fd7; text-decoration-color: #005fd7\">Ringo Starr</span> for <span style=\"color: #008080; text-decoration-color: #008080; font-weight: bold\">10</span> damage\n",
              "</pre>\n"
            ]
          },
          "metadata": {}
        },
        {
          "output_type": "display_data",
          "data": {
            "text/plain": [
              "\u001b[38;5;160mRingo Starr\u001b[0m attacks \u001b[38;5;26mJohn Lennon\u001b[0m for \u001b[1;36m10\u001b[0m damage\n"
            ],
            "text/html": [
              "<pre style=\"white-space:pre;overflow-x:auto;line-height:normal;font-family:Menlo,'DejaVu Sans Mono',consolas,'Courier New',monospace\"><span style=\"color: #d70000; text-decoration-color: #d70000\">Ringo Starr</span> attacks <span style=\"color: #005fd7; text-decoration-color: #005fd7\">John Lennon</span> for <span style=\"color: #008080; text-decoration-color: #008080; font-weight: bold\">10</span> damage\n",
              "</pre>\n"
            ]
          },
          "metadata": {}
        },
        {
          "output_type": "display_data",
          "data": {
            "text/plain": [
              "\u001b[38;5;88mJohn Lennon died!\u001b[0m\n"
            ],
            "text/html": [
              "<pre style=\"white-space:pre;overflow-x:auto;line-height:normal;font-family:Menlo,'DejaVu Sans Mono',consolas,'Courier New',monospace\"><span style=\"color: #870000; text-decoration-color: #870000\">John Lennon died!</span>\n",
              "</pre>\n"
            ]
          },
          "metadata": {}
        },
        {
          "output_type": "display_data",
          "data": {
            "text/plain": [
              "\u001b[38;5;220mRingo Starr\u001b[0m rewarded with \u001b[38;5;178m \u001b[0m\u001b[1;38;5;178m10\u001b[0m\u001b[38;5;178m \u001b[0m health points\n"
            ],
            "text/html": [
              "<pre style=\"white-space:pre;overflow-x:auto;line-height:normal;font-family:Menlo,'DejaVu Sans Mono',consolas,'Courier New',monospace\"><span style=\"color: #ffd700; text-decoration-color: #ffd700\">Ringo Starr</span> rewarded with <span style=\"color: #d7af00; text-decoration-color: #d7af00\"> </span><span style=\"color: #d7af00; text-decoration-color: #d7af00; font-weight: bold\">10</span><span style=\"color: #d7af00; text-decoration-color: #d7af00\"> </span> health points\n",
              "</pre>\n"
            ]
          },
          "metadata": {}
        },
        {
          "output_type": "display_data",
          "data": {
            "text/plain": [
              "\n",
              " \u001b[38;5;172m--- ROUND \u001b[0m\u001b[1;38;5;172m3\u001b[0m\u001b[38;5;172m ---\u001b[0m\n"
            ],
            "text/html": [
              "<pre style=\"white-space:pre;overflow-x:auto;line-height:normal;font-family:Menlo,'DejaVu Sans Mono',consolas,'Courier New',monospace\">\n",
              " <span style=\"color: #d78700; text-decoration-color: #d78700\">--- ROUND </span><span style=\"color: #d78700; text-decoration-color: #d78700; font-weight: bold\">3</span><span style=\"color: #d78700; text-decoration-color: #d78700\"> ---</span>\n",
              "</pre>\n"
            ]
          },
          "metadata": {}
        },
        {
          "output_type": "display_data",
          "data": {
            "text/plain": [
              "\u001b[38;5;160mJohn Lennon\u001b[0m attacks \u001b[38;5;26mRingo Starr\u001b[0m for \u001b[1;36m10\u001b[0m damage\n"
            ],
            "text/html": [
              "<pre style=\"white-space:pre;overflow-x:auto;line-height:normal;font-family:Menlo,'DejaVu Sans Mono',consolas,'Courier New',monospace\"><span style=\"color: #d70000; text-decoration-color: #d70000\">John Lennon</span> attacks <span style=\"color: #005fd7; text-decoration-color: #005fd7\">Ringo Starr</span> for <span style=\"color: #008080; text-decoration-color: #008080; font-weight: bold\">10</span> damage\n",
              "</pre>\n"
            ]
          },
          "metadata": {}
        },
        {
          "output_type": "display_data",
          "data": {
            "text/plain": [
              "\u001b[38;5;160mRingo Starr\u001b[0m attacks \u001b[38;5;26mJohn Lennon\u001b[0m for \u001b[1;36m10\u001b[0m damage\n"
            ],
            "text/html": [
              "<pre style=\"white-space:pre;overflow-x:auto;line-height:normal;font-family:Menlo,'DejaVu Sans Mono',consolas,'Courier New',monospace\"><span style=\"color: #d70000; text-decoration-color: #d70000\">Ringo Starr</span> attacks <span style=\"color: #005fd7; text-decoration-color: #005fd7\">John Lennon</span> for <span style=\"color: #008080; text-decoration-color: #008080; font-weight: bold\">10</span> damage\n",
              "</pre>\n"
            ]
          },
          "metadata": {}
        },
        {
          "output_type": "display_data",
          "data": {
            "text/plain": [
              "\u001b[38;5;88mJohn Lennon died!\u001b[0m\n"
            ],
            "text/html": [
              "<pre style=\"white-space:pre;overflow-x:auto;line-height:normal;font-family:Menlo,'DejaVu Sans Mono',consolas,'Courier New',monospace\"><span style=\"color: #870000; text-decoration-color: #870000\">John Lennon died!</span>\n",
              "</pre>\n"
            ]
          },
          "metadata": {}
        },
        {
          "output_type": "display_data",
          "data": {
            "text/plain": [
              "\u001b[38;5;220mRingo Starr\u001b[0m rewarded with \u001b[38;5;178m \u001b[0m\u001b[1;38;5;178m10\u001b[0m\u001b[38;5;178m \u001b[0m health points\n"
            ],
            "text/html": [
              "<pre style=\"white-space:pre;overflow-x:auto;line-height:normal;font-family:Menlo,'DejaVu Sans Mono',consolas,'Courier New',monospace\"><span style=\"color: #ffd700; text-decoration-color: #ffd700\">Ringo Starr</span> rewarded with <span style=\"color: #d7af00; text-decoration-color: #d7af00\"> </span><span style=\"color: #d7af00; text-decoration-color: #d7af00; font-weight: bold\">10</span><span style=\"color: #d7af00; text-decoration-color: #d7af00\"> </span> health points\n",
              "</pre>\n"
            ]
          },
          "metadata": {}
        },
        {
          "output_type": "display_data",
          "data": {
            "text/plain": [
              "\n",
              " \u001b[38;5;172m--- ROUND \u001b[0m\u001b[1;38;5;172m4\u001b[0m\u001b[38;5;172m ---\u001b[0m\n"
            ],
            "text/html": [
              "<pre style=\"white-space:pre;overflow-x:auto;line-height:normal;font-family:Menlo,'DejaVu Sans Mono',consolas,'Courier New',monospace\">\n",
              " <span style=\"color: #d78700; text-decoration-color: #d78700\">--- ROUND </span><span style=\"color: #d78700; text-decoration-color: #d78700; font-weight: bold\">4</span><span style=\"color: #d78700; text-decoration-color: #d78700\"> ---</span>\n",
              "</pre>\n"
            ]
          },
          "metadata": {}
        },
        {
          "output_type": "display_data",
          "data": {
            "text/plain": [
              "\u001b[38;5;160mJohn Lennon\u001b[0m attacks \u001b[38;5;26mRingo Starr\u001b[0m for \u001b[1;36m10\u001b[0m damage\n"
            ],
            "text/html": [
              "<pre style=\"white-space:pre;overflow-x:auto;line-height:normal;font-family:Menlo,'DejaVu Sans Mono',consolas,'Courier New',monospace\"><span style=\"color: #d70000; text-decoration-color: #d70000\">John Lennon</span> attacks <span style=\"color: #005fd7; text-decoration-color: #005fd7\">Ringo Starr</span> for <span style=\"color: #008080; text-decoration-color: #008080; font-weight: bold\">10</span> damage\n",
              "</pre>\n"
            ]
          },
          "metadata": {}
        },
        {
          "output_type": "display_data",
          "data": {
            "text/plain": [
              "\u001b[38;5;160mRingo Starr\u001b[0m attacks \u001b[38;5;26mJohn Lennon\u001b[0m for \u001b[1;36m10\u001b[0m damage\n"
            ],
            "text/html": [
              "<pre style=\"white-space:pre;overflow-x:auto;line-height:normal;font-family:Menlo,'DejaVu Sans Mono',consolas,'Courier New',monospace\"><span style=\"color: #d70000; text-decoration-color: #d70000\">Ringo Starr</span> attacks <span style=\"color: #005fd7; text-decoration-color: #005fd7\">John Lennon</span> for <span style=\"color: #008080; text-decoration-color: #008080; font-weight: bold\">10</span> damage\n",
              "</pre>\n"
            ]
          },
          "metadata": {}
        },
        {
          "output_type": "display_data",
          "data": {
            "text/plain": [
              "\u001b[38;5;88mJohn Lennon died!\u001b[0m\n"
            ],
            "text/html": [
              "<pre style=\"white-space:pre;overflow-x:auto;line-height:normal;font-family:Menlo,'DejaVu Sans Mono',consolas,'Courier New',monospace\"><span style=\"color: #870000; text-decoration-color: #870000\">John Lennon died!</span>\n",
              "</pre>\n"
            ]
          },
          "metadata": {}
        },
        {
          "output_type": "display_data",
          "data": {
            "text/plain": [
              "\u001b[38;5;220mRingo Starr\u001b[0m rewarded with \u001b[38;5;178m \u001b[0m\u001b[1;38;5;178m10\u001b[0m\u001b[38;5;178m \u001b[0m health points\n"
            ],
            "text/html": [
              "<pre style=\"white-space:pre;overflow-x:auto;line-height:normal;font-family:Menlo,'DejaVu Sans Mono',consolas,'Courier New',monospace\"><span style=\"color: #ffd700; text-decoration-color: #ffd700\">Ringo Starr</span> rewarded with <span style=\"color: #d7af00; text-decoration-color: #d7af00\"> </span><span style=\"color: #d7af00; text-decoration-color: #d7af00; font-weight: bold\">10</span><span style=\"color: #d7af00; text-decoration-color: #d7af00\"> </span> health points\n",
              "</pre>\n"
            ]
          },
          "metadata": {}
        },
        {
          "output_type": "display_data",
          "data": {
            "text/plain": [
              "\n",
              " \u001b[38;5;172m--- ROUND \u001b[0m\u001b[1;38;5;172m5\u001b[0m\u001b[38;5;172m ---\u001b[0m\n"
            ],
            "text/html": [
              "<pre style=\"white-space:pre;overflow-x:auto;line-height:normal;font-family:Menlo,'DejaVu Sans Mono',consolas,'Courier New',monospace\">\n",
              " <span style=\"color: #d78700; text-decoration-color: #d78700\">--- ROUND </span><span style=\"color: #d78700; text-decoration-color: #d78700; font-weight: bold\">5</span><span style=\"color: #d78700; text-decoration-color: #d78700\"> ---</span>\n",
              "</pre>\n"
            ]
          },
          "metadata": {}
        },
        {
          "output_type": "display_data",
          "data": {
            "text/plain": [
              "\u001b[38;5;160mJohn Lennon\u001b[0m attacks \u001b[38;5;26mRingo Starr\u001b[0m for \u001b[1;36m10\u001b[0m damage\n"
            ],
            "text/html": [
              "<pre style=\"white-space:pre;overflow-x:auto;line-height:normal;font-family:Menlo,'DejaVu Sans Mono',consolas,'Courier New',monospace\"><span style=\"color: #d70000; text-decoration-color: #d70000\">John Lennon</span> attacks <span style=\"color: #005fd7; text-decoration-color: #005fd7\">Ringo Starr</span> for <span style=\"color: #008080; text-decoration-color: #008080; font-weight: bold\">10</span> damage\n",
              "</pre>\n"
            ]
          },
          "metadata": {}
        },
        {
          "output_type": "display_data",
          "data": {
            "text/plain": [
              "\u001b[38;5;160mRingo Starr\u001b[0m attacks \u001b[38;5;26mJohn Lennon\u001b[0m for \u001b[1;36m10\u001b[0m damage\n"
            ],
            "text/html": [
              "<pre style=\"white-space:pre;overflow-x:auto;line-height:normal;font-family:Menlo,'DejaVu Sans Mono',consolas,'Courier New',monospace\"><span style=\"color: #d70000; text-decoration-color: #d70000\">Ringo Starr</span> attacks <span style=\"color: #005fd7; text-decoration-color: #005fd7\">John Lennon</span> for <span style=\"color: #008080; text-decoration-color: #008080; font-weight: bold\">10</span> damage\n",
              "</pre>\n"
            ]
          },
          "metadata": {}
        },
        {
          "output_type": "display_data",
          "data": {
            "text/plain": [
              "\u001b[38;5;88mJohn Lennon died!\u001b[0m\n"
            ],
            "text/html": [
              "<pre style=\"white-space:pre;overflow-x:auto;line-height:normal;font-family:Menlo,'DejaVu Sans Mono',consolas,'Courier New',monospace\"><span style=\"color: #870000; text-decoration-color: #870000\">John Lennon died!</span>\n",
              "</pre>\n"
            ]
          },
          "metadata": {}
        },
        {
          "output_type": "display_data",
          "data": {
            "text/plain": [
              "\u001b[38;5;220mRingo Starr\u001b[0m rewarded with \u001b[38;5;178m \u001b[0m\u001b[1;38;5;178m10\u001b[0m\u001b[38;5;178m \u001b[0m health points\n"
            ],
            "text/html": [
              "<pre style=\"white-space:pre;overflow-x:auto;line-height:normal;font-family:Menlo,'DejaVu Sans Mono',consolas,'Courier New',monospace\"><span style=\"color: #ffd700; text-decoration-color: #ffd700\">Ringo Starr</span> rewarded with <span style=\"color: #d7af00; text-decoration-color: #d7af00\"> </span><span style=\"color: #d7af00; text-decoration-color: #d7af00; font-weight: bold\">10</span><span style=\"color: #d7af00; text-decoration-color: #d7af00\"> </span> health points\n",
              "</pre>\n"
            ]
          },
          "metadata": {}
        },
        {
          "output_type": "display_data",
          "data": {
            "text/plain": [
              "\n",
              " \u001b[38;5;172m--- ROUND \u001b[0m\u001b[1;38;5;172m6\u001b[0m\u001b[38;5;172m ---\u001b[0m\n"
            ],
            "text/html": [
              "<pre style=\"white-space:pre;overflow-x:auto;line-height:normal;font-family:Menlo,'DejaVu Sans Mono',consolas,'Courier New',monospace\">\n",
              " <span style=\"color: #d78700; text-decoration-color: #d78700\">--- ROUND </span><span style=\"color: #d78700; text-decoration-color: #d78700; font-weight: bold\">6</span><span style=\"color: #d78700; text-decoration-color: #d78700\"> ---</span>\n",
              "</pre>\n"
            ]
          },
          "metadata": {}
        },
        {
          "output_type": "display_data",
          "data": {
            "text/plain": [
              "\u001b[38;5;160mJohn Lennon\u001b[0m attacks \u001b[38;5;26mRingo Starr\u001b[0m for \u001b[1;36m10\u001b[0m damage\n"
            ],
            "text/html": [
              "<pre style=\"white-space:pre;overflow-x:auto;line-height:normal;font-family:Menlo,'DejaVu Sans Mono',consolas,'Courier New',monospace\"><span style=\"color: #d70000; text-decoration-color: #d70000\">John Lennon</span> attacks <span style=\"color: #005fd7; text-decoration-color: #005fd7\">Ringo Starr</span> for <span style=\"color: #008080; text-decoration-color: #008080; font-weight: bold\">10</span> damage\n",
              "</pre>\n"
            ]
          },
          "metadata": {}
        },
        {
          "output_type": "display_data",
          "data": {
            "text/plain": [
              "\u001b[38;5;160mRingo Starr\u001b[0m attacks \u001b[38;5;26mJohn Lennon\u001b[0m for \u001b[1;36m10\u001b[0m damage\n"
            ],
            "text/html": [
              "<pre style=\"white-space:pre;overflow-x:auto;line-height:normal;font-family:Menlo,'DejaVu Sans Mono',consolas,'Courier New',monospace\"><span style=\"color: #d70000; text-decoration-color: #d70000\">Ringo Starr</span> attacks <span style=\"color: #005fd7; text-decoration-color: #005fd7\">John Lennon</span> for <span style=\"color: #008080; text-decoration-color: #008080; font-weight: bold\">10</span> damage\n",
              "</pre>\n"
            ]
          },
          "metadata": {}
        },
        {
          "output_type": "display_data",
          "data": {
            "text/plain": [
              "\u001b[38;5;88mJohn Lennon died!\u001b[0m\n"
            ],
            "text/html": [
              "<pre style=\"white-space:pre;overflow-x:auto;line-height:normal;font-family:Menlo,'DejaVu Sans Mono',consolas,'Courier New',monospace\"><span style=\"color: #870000; text-decoration-color: #870000\">John Lennon died!</span>\n",
              "</pre>\n"
            ]
          },
          "metadata": {}
        },
        {
          "output_type": "display_data",
          "data": {
            "text/plain": [
              "\u001b[38;5;220mRingo Starr\u001b[0m rewarded with \u001b[38;5;178m \u001b[0m\u001b[1;38;5;178m10\u001b[0m\u001b[38;5;178m \u001b[0m health points\n"
            ],
            "text/html": [
              "<pre style=\"white-space:pre;overflow-x:auto;line-height:normal;font-family:Menlo,'DejaVu Sans Mono',consolas,'Courier New',monospace\"><span style=\"color: #ffd700; text-decoration-color: #ffd700\">Ringo Starr</span> rewarded with <span style=\"color: #d7af00; text-decoration-color: #d7af00\"> </span><span style=\"color: #d7af00; text-decoration-color: #d7af00; font-weight: bold\">10</span><span style=\"color: #d7af00; text-decoration-color: #d7af00\"> </span> health points\n",
              "</pre>\n"
            ]
          },
          "metadata": {}
        },
        {
          "output_type": "display_data",
          "data": {
            "text/plain": [
              "\n",
              " \u001b[38;5;172m--- ROUND \u001b[0m\u001b[1;38;5;172m7\u001b[0m\u001b[38;5;172m ---\u001b[0m\n"
            ],
            "text/html": [
              "<pre style=\"white-space:pre;overflow-x:auto;line-height:normal;font-family:Menlo,'DejaVu Sans Mono',consolas,'Courier New',monospace\">\n",
              " <span style=\"color: #d78700; text-decoration-color: #d78700\">--- ROUND </span><span style=\"color: #d78700; text-decoration-color: #d78700; font-weight: bold\">7</span><span style=\"color: #d78700; text-decoration-color: #d78700\"> ---</span>\n",
              "</pre>\n"
            ]
          },
          "metadata": {}
        },
        {
          "output_type": "display_data",
          "data": {
            "text/plain": [
              "\u001b[38;5;160mJohn Lennon\u001b[0m attacks \u001b[38;5;26mRingo Starr\u001b[0m for \u001b[1;36m10\u001b[0m damage\n"
            ],
            "text/html": [
              "<pre style=\"white-space:pre;overflow-x:auto;line-height:normal;font-family:Menlo,'DejaVu Sans Mono',consolas,'Courier New',monospace\"><span style=\"color: #d70000; text-decoration-color: #d70000\">John Lennon</span> attacks <span style=\"color: #005fd7; text-decoration-color: #005fd7\">Ringo Starr</span> for <span style=\"color: #008080; text-decoration-color: #008080; font-weight: bold\">10</span> damage\n",
              "</pre>\n"
            ]
          },
          "metadata": {}
        },
        {
          "output_type": "display_data",
          "data": {
            "text/plain": [
              "\u001b[38;5;160mRingo Starr\u001b[0m attacks \u001b[38;5;26mJohn Lennon\u001b[0m for \u001b[1;36m10\u001b[0m damage\n"
            ],
            "text/html": [
              "<pre style=\"white-space:pre;overflow-x:auto;line-height:normal;font-family:Menlo,'DejaVu Sans Mono',consolas,'Courier New',monospace\"><span style=\"color: #d70000; text-decoration-color: #d70000\">Ringo Starr</span> attacks <span style=\"color: #005fd7; text-decoration-color: #005fd7\">John Lennon</span> for <span style=\"color: #008080; text-decoration-color: #008080; font-weight: bold\">10</span> damage\n",
              "</pre>\n"
            ]
          },
          "metadata": {}
        },
        {
          "output_type": "display_data",
          "data": {
            "text/plain": [
              "\u001b[38;5;88mJohn Lennon died!\u001b[0m\n"
            ],
            "text/html": [
              "<pre style=\"white-space:pre;overflow-x:auto;line-height:normal;font-family:Menlo,'DejaVu Sans Mono',consolas,'Courier New',monospace\"><span style=\"color: #870000; text-decoration-color: #870000\">John Lennon died!</span>\n",
              "</pre>\n"
            ]
          },
          "metadata": {}
        },
        {
          "output_type": "display_data",
          "data": {
            "text/plain": [
              "\u001b[38;5;220mRingo Starr\u001b[0m rewarded with \u001b[38;5;178m \u001b[0m\u001b[1;38;5;178m10\u001b[0m\u001b[38;5;178m \u001b[0m health points\n"
            ],
            "text/html": [
              "<pre style=\"white-space:pre;overflow-x:auto;line-height:normal;font-family:Menlo,'DejaVu Sans Mono',consolas,'Courier New',monospace\"><span style=\"color: #ffd700; text-decoration-color: #ffd700\">Ringo Starr</span> rewarded with <span style=\"color: #d7af00; text-decoration-color: #d7af00\"> </span><span style=\"color: #d7af00; text-decoration-color: #d7af00; font-weight: bold\">10</span><span style=\"color: #d7af00; text-decoration-color: #d7af00\"> </span> health points\n",
              "</pre>\n"
            ]
          },
          "metadata": {}
        },
        {
          "output_type": "display_data",
          "data": {
            "text/plain": [
              "\n",
              " \u001b[38;5;172m--- ROUND \u001b[0m\u001b[1;38;5;172m8\u001b[0m\u001b[38;5;172m ---\u001b[0m\n"
            ],
            "text/html": [
              "<pre style=\"white-space:pre;overflow-x:auto;line-height:normal;font-family:Menlo,'DejaVu Sans Mono',consolas,'Courier New',monospace\">\n",
              " <span style=\"color: #d78700; text-decoration-color: #d78700\">--- ROUND </span><span style=\"color: #d78700; text-decoration-color: #d78700; font-weight: bold\">8</span><span style=\"color: #d78700; text-decoration-color: #d78700\"> ---</span>\n",
              "</pre>\n"
            ]
          },
          "metadata": {}
        },
        {
          "output_type": "display_data",
          "data": {
            "text/plain": [
              "\u001b[38;5;160mJohn Lennon\u001b[0m attacks \u001b[38;5;26mRingo Starr\u001b[0m for \u001b[1;36m10\u001b[0m damage\n"
            ],
            "text/html": [
              "<pre style=\"white-space:pre;overflow-x:auto;line-height:normal;font-family:Menlo,'DejaVu Sans Mono',consolas,'Courier New',monospace\"><span style=\"color: #d70000; text-decoration-color: #d70000\">John Lennon</span> attacks <span style=\"color: #005fd7; text-decoration-color: #005fd7\">Ringo Starr</span> for <span style=\"color: #008080; text-decoration-color: #008080; font-weight: bold\">10</span> damage\n",
              "</pre>\n"
            ]
          },
          "metadata": {}
        },
        {
          "output_type": "display_data",
          "data": {
            "text/plain": [
              "\u001b[38;5;160mRingo Starr\u001b[0m attacks \u001b[38;5;26mJohn Lennon\u001b[0m for \u001b[1;36m10\u001b[0m damage\n"
            ],
            "text/html": [
              "<pre style=\"white-space:pre;overflow-x:auto;line-height:normal;font-family:Menlo,'DejaVu Sans Mono',consolas,'Courier New',monospace\"><span style=\"color: #d70000; text-decoration-color: #d70000\">Ringo Starr</span> attacks <span style=\"color: #005fd7; text-decoration-color: #005fd7\">John Lennon</span> for <span style=\"color: #008080; text-decoration-color: #008080; font-weight: bold\">10</span> damage\n",
              "</pre>\n"
            ]
          },
          "metadata": {}
        },
        {
          "output_type": "display_data",
          "data": {
            "text/plain": [
              "\u001b[38;5;88mJohn Lennon died!\u001b[0m\n"
            ],
            "text/html": [
              "<pre style=\"white-space:pre;overflow-x:auto;line-height:normal;font-family:Menlo,'DejaVu Sans Mono',consolas,'Courier New',monospace\"><span style=\"color: #870000; text-decoration-color: #870000\">John Lennon died!</span>\n",
              "</pre>\n"
            ]
          },
          "metadata": {}
        },
        {
          "output_type": "display_data",
          "data": {
            "text/plain": [
              "\u001b[38;5;220mRingo Starr\u001b[0m rewarded with \u001b[38;5;178m \u001b[0m\u001b[1;38;5;178m10\u001b[0m\u001b[38;5;178m \u001b[0m health points\n"
            ],
            "text/html": [
              "<pre style=\"white-space:pre;overflow-x:auto;line-height:normal;font-family:Menlo,'DejaVu Sans Mono',consolas,'Courier New',monospace\"><span style=\"color: #ffd700; text-decoration-color: #ffd700\">Ringo Starr</span> rewarded with <span style=\"color: #d7af00; text-decoration-color: #d7af00\"> </span><span style=\"color: #d7af00; text-decoration-color: #d7af00; font-weight: bold\">10</span><span style=\"color: #d7af00; text-decoration-color: #d7af00\"> </span> health points\n",
              "</pre>\n"
            ]
          },
          "metadata": {}
        },
        {
          "output_type": "display_data",
          "data": {
            "text/plain": [
              "\n",
              " \u001b[38;5;172m--- ROUND \u001b[0m\u001b[1;38;5;172m9\u001b[0m\u001b[38;5;172m ---\u001b[0m\n"
            ],
            "text/html": [
              "<pre style=\"white-space:pre;overflow-x:auto;line-height:normal;font-family:Menlo,'DejaVu Sans Mono',consolas,'Courier New',monospace\">\n",
              " <span style=\"color: #d78700; text-decoration-color: #d78700\">--- ROUND </span><span style=\"color: #d78700; text-decoration-color: #d78700; font-weight: bold\">9</span><span style=\"color: #d78700; text-decoration-color: #d78700\"> ---</span>\n",
              "</pre>\n"
            ]
          },
          "metadata": {}
        },
        {
          "output_type": "display_data",
          "data": {
            "text/plain": [
              "\u001b[38;5;160mJohn Lennon\u001b[0m attacks \u001b[38;5;26mRingo Starr\u001b[0m for \u001b[1;36m10\u001b[0m damage\n"
            ],
            "text/html": [
              "<pre style=\"white-space:pre;overflow-x:auto;line-height:normal;font-family:Menlo,'DejaVu Sans Mono',consolas,'Courier New',monospace\"><span style=\"color: #d70000; text-decoration-color: #d70000\">John Lennon</span> attacks <span style=\"color: #005fd7; text-decoration-color: #005fd7\">Ringo Starr</span> for <span style=\"color: #008080; text-decoration-color: #008080; font-weight: bold\">10</span> damage\n",
              "</pre>\n"
            ]
          },
          "metadata": {}
        },
        {
          "output_type": "display_data",
          "data": {
            "text/plain": [
              "\u001b[38;5;160mRingo Starr\u001b[0m attacks \u001b[38;5;26mJohn Lennon\u001b[0m for \u001b[1;36m10\u001b[0m damage\n"
            ],
            "text/html": [
              "<pre style=\"white-space:pre;overflow-x:auto;line-height:normal;font-family:Menlo,'DejaVu Sans Mono',consolas,'Courier New',monospace\"><span style=\"color: #d70000; text-decoration-color: #d70000\">Ringo Starr</span> attacks <span style=\"color: #005fd7; text-decoration-color: #005fd7\">John Lennon</span> for <span style=\"color: #008080; text-decoration-color: #008080; font-weight: bold\">10</span> damage\n",
              "</pre>\n"
            ]
          },
          "metadata": {}
        },
        {
          "output_type": "display_data",
          "data": {
            "text/plain": [
              "\u001b[38;5;88mJohn Lennon died!\u001b[0m\n"
            ],
            "text/html": [
              "<pre style=\"white-space:pre;overflow-x:auto;line-height:normal;font-family:Menlo,'DejaVu Sans Mono',consolas,'Courier New',monospace\"><span style=\"color: #870000; text-decoration-color: #870000\">John Lennon died!</span>\n",
              "</pre>\n"
            ]
          },
          "metadata": {}
        },
        {
          "output_type": "display_data",
          "data": {
            "text/plain": [
              "\u001b[38;5;220mRingo Starr\u001b[0m rewarded with \u001b[38;5;178m \u001b[0m\u001b[1;38;5;178m10\u001b[0m\u001b[38;5;178m \u001b[0m health points\n"
            ],
            "text/html": [
              "<pre style=\"white-space:pre;overflow-x:auto;line-height:normal;font-family:Menlo,'DejaVu Sans Mono',consolas,'Courier New',monospace\"><span style=\"color: #ffd700; text-decoration-color: #ffd700\">Ringo Starr</span> rewarded with <span style=\"color: #d7af00; text-decoration-color: #d7af00\"> </span><span style=\"color: #d7af00; text-decoration-color: #d7af00; font-weight: bold\">10</span><span style=\"color: #d7af00; text-decoration-color: #d7af00\"> </span> health points\n",
              "</pre>\n"
            ]
          },
          "metadata": {}
        },
        {
          "output_type": "display_data",
          "data": {
            "text/plain": [
              "\n",
              " \u001b[38;5;172m--- ROUND \u001b[0m\u001b[1;38;5;172m10\u001b[0m\u001b[38;5;172m ---\u001b[0m\n"
            ],
            "text/html": [
              "<pre style=\"white-space:pre;overflow-x:auto;line-height:normal;font-family:Menlo,'DejaVu Sans Mono',consolas,'Courier New',monospace\">\n",
              " <span style=\"color: #d78700; text-decoration-color: #d78700\">--- ROUND </span><span style=\"color: #d78700; text-decoration-color: #d78700; font-weight: bold\">10</span><span style=\"color: #d78700; text-decoration-color: #d78700\"> ---</span>\n",
              "</pre>\n"
            ]
          },
          "metadata": {}
        },
        {
          "output_type": "display_data",
          "data": {
            "text/plain": [
              "\u001b[38;5;160mJohn Lennon\u001b[0m attacks \u001b[38;5;26mRingo Starr\u001b[0m for \u001b[1;36m10\u001b[0m damage\n"
            ],
            "text/html": [
              "<pre style=\"white-space:pre;overflow-x:auto;line-height:normal;font-family:Menlo,'DejaVu Sans Mono',consolas,'Courier New',monospace\"><span style=\"color: #d70000; text-decoration-color: #d70000\">John Lennon</span> attacks <span style=\"color: #005fd7; text-decoration-color: #005fd7\">Ringo Starr</span> for <span style=\"color: #008080; text-decoration-color: #008080; font-weight: bold\">10</span> damage\n",
              "</pre>\n"
            ]
          },
          "metadata": {}
        },
        {
          "output_type": "display_data",
          "data": {
            "text/plain": [
              "\u001b[38;5;160mRingo Starr\u001b[0m attacks \u001b[38;5;26mJohn Lennon\u001b[0m for \u001b[1;36m10\u001b[0m damage\n"
            ],
            "text/html": [
              "<pre style=\"white-space:pre;overflow-x:auto;line-height:normal;font-family:Menlo,'DejaVu Sans Mono',consolas,'Courier New',monospace\"><span style=\"color: #d70000; text-decoration-color: #d70000\">Ringo Starr</span> attacks <span style=\"color: #005fd7; text-decoration-color: #005fd7\">John Lennon</span> for <span style=\"color: #008080; text-decoration-color: #008080; font-weight: bold\">10</span> damage\n",
              "</pre>\n"
            ]
          },
          "metadata": {}
        },
        {
          "output_type": "display_data",
          "data": {
            "text/plain": [
              "\u001b[38;5;88mJohn Lennon died!\u001b[0m\n"
            ],
            "text/html": [
              "<pre style=\"white-space:pre;overflow-x:auto;line-height:normal;font-family:Menlo,'DejaVu Sans Mono',consolas,'Courier New',monospace\"><span style=\"color: #870000; text-decoration-color: #870000\">John Lennon died!</span>\n",
              "</pre>\n"
            ]
          },
          "metadata": {}
        },
        {
          "output_type": "display_data",
          "data": {
            "text/plain": [
              "\u001b[38;5;220mRingo Starr\u001b[0m rewarded with \u001b[38;5;178m \u001b[0m\u001b[1;38;5;178m10\u001b[0m\u001b[38;5;178m \u001b[0m health points\n"
            ],
            "text/html": [
              "<pre style=\"white-space:pre;overflow-x:auto;line-height:normal;font-family:Menlo,'DejaVu Sans Mono',consolas,'Courier New',monospace\"><span style=\"color: #ffd700; text-decoration-color: #ffd700\">Ringo Starr</span> rewarded with <span style=\"color: #d7af00; text-decoration-color: #d7af00\"> </span><span style=\"color: #d7af00; text-decoration-color: #d7af00; font-weight: bold\">10</span><span style=\"color: #d7af00; text-decoration-color: #d7af00\"> </span> health points\n",
              "</pre>\n"
            ]
          },
          "metadata": {}
        },
        {
          "output_type": "display_data",
          "data": {
            "text/plain": [
              "\n",
              " \u001b[38;5;172m--- ROUND \u001b[0m\u001b[1;38;5;172m11\u001b[0m\u001b[38;5;172m ---\u001b[0m\n"
            ],
            "text/html": [
              "<pre style=\"white-space:pre;overflow-x:auto;line-height:normal;font-family:Menlo,'DejaVu Sans Mono',consolas,'Courier New',monospace\">\n",
              " <span style=\"color: #d78700; text-decoration-color: #d78700\">--- ROUND </span><span style=\"color: #d78700; text-decoration-color: #d78700; font-weight: bold\">11</span><span style=\"color: #d78700; text-decoration-color: #d78700\"> ---</span>\n",
              "</pre>\n"
            ]
          },
          "metadata": {}
        },
        {
          "output_type": "display_data",
          "data": {
            "text/plain": [
              "\u001b[38;5;160mJohn Lennon\u001b[0m attacks \u001b[38;5;26mRingo Starr\u001b[0m for \u001b[1;36m10\u001b[0m damage\n"
            ],
            "text/html": [
              "<pre style=\"white-space:pre;overflow-x:auto;line-height:normal;font-family:Menlo,'DejaVu Sans Mono',consolas,'Courier New',monospace\"><span style=\"color: #d70000; text-decoration-color: #d70000\">John Lennon</span> attacks <span style=\"color: #005fd7; text-decoration-color: #005fd7\">Ringo Starr</span> for <span style=\"color: #008080; text-decoration-color: #008080; font-weight: bold\">10</span> damage\n",
              "</pre>\n"
            ]
          },
          "metadata": {}
        },
        {
          "output_type": "display_data",
          "data": {
            "text/plain": [
              "\u001b[38;5;160mRingo Starr\u001b[0m attacks \u001b[38;5;26mJohn Lennon\u001b[0m for \u001b[1;36m10\u001b[0m damage\n"
            ],
            "text/html": [
              "<pre style=\"white-space:pre;overflow-x:auto;line-height:normal;font-family:Menlo,'DejaVu Sans Mono',consolas,'Courier New',monospace\"><span style=\"color: #d70000; text-decoration-color: #d70000\">Ringo Starr</span> attacks <span style=\"color: #005fd7; text-decoration-color: #005fd7\">John Lennon</span> for <span style=\"color: #008080; text-decoration-color: #008080; font-weight: bold\">10</span> damage\n",
              "</pre>\n"
            ]
          },
          "metadata": {}
        },
        {
          "output_type": "display_data",
          "data": {
            "text/plain": [
              "\u001b[38;5;88mJohn Lennon died!\u001b[0m\n"
            ],
            "text/html": [
              "<pre style=\"white-space:pre;overflow-x:auto;line-height:normal;font-family:Menlo,'DejaVu Sans Mono',consolas,'Courier New',monospace\"><span style=\"color: #870000; text-decoration-color: #870000\">John Lennon died!</span>\n",
              "</pre>\n"
            ]
          },
          "metadata": {}
        },
        {
          "output_type": "display_data",
          "data": {
            "text/plain": [
              "\u001b[38;5;220mRingo Starr\u001b[0m rewarded with \u001b[38;5;178m \u001b[0m\u001b[1;38;5;178m10\u001b[0m\u001b[38;5;178m \u001b[0m health points\n"
            ],
            "text/html": [
              "<pre style=\"white-space:pre;overflow-x:auto;line-height:normal;font-family:Menlo,'DejaVu Sans Mono',consolas,'Courier New',monospace\"><span style=\"color: #ffd700; text-decoration-color: #ffd700\">Ringo Starr</span> rewarded with <span style=\"color: #d7af00; text-decoration-color: #d7af00\"> </span><span style=\"color: #d7af00; text-decoration-color: #d7af00; font-weight: bold\">10</span><span style=\"color: #d7af00; text-decoration-color: #d7af00\"> </span> health points\n",
              "</pre>\n"
            ]
          },
          "metadata": {}
        },
        {
          "output_type": "display_data",
          "data": {
            "text/plain": [
              "\n",
              " \u001b[38;5;172m--- ROUND \u001b[0m\u001b[1;38;5;172m12\u001b[0m\u001b[38;5;172m ---\u001b[0m\n"
            ],
            "text/html": [
              "<pre style=\"white-space:pre;overflow-x:auto;line-height:normal;font-family:Menlo,'DejaVu Sans Mono',consolas,'Courier New',monospace\">\n",
              " <span style=\"color: #d78700; text-decoration-color: #d78700\">--- ROUND </span><span style=\"color: #d78700; text-decoration-color: #d78700; font-weight: bold\">12</span><span style=\"color: #d78700; text-decoration-color: #d78700\"> ---</span>\n",
              "</pre>\n"
            ]
          },
          "metadata": {}
        },
        {
          "output_type": "display_data",
          "data": {
            "text/plain": [
              "\u001b[38;5;160mJohn Lennon\u001b[0m attacks \u001b[38;5;26mRingo Starr\u001b[0m for \u001b[1;36m10\u001b[0m damage\n"
            ],
            "text/html": [
              "<pre style=\"white-space:pre;overflow-x:auto;line-height:normal;font-family:Menlo,'DejaVu Sans Mono',consolas,'Courier New',monospace\"><span style=\"color: #d70000; text-decoration-color: #d70000\">John Lennon</span> attacks <span style=\"color: #005fd7; text-decoration-color: #005fd7\">Ringo Starr</span> for <span style=\"color: #008080; text-decoration-color: #008080; font-weight: bold\">10</span> damage\n",
              "</pre>\n"
            ]
          },
          "metadata": {}
        },
        {
          "output_type": "display_data",
          "data": {
            "text/plain": [
              "\u001b[38;5;160mRingo Starr\u001b[0m attacks \u001b[38;5;26mJohn Lennon\u001b[0m for \u001b[1;36m10\u001b[0m damage\n"
            ],
            "text/html": [
              "<pre style=\"white-space:pre;overflow-x:auto;line-height:normal;font-family:Menlo,'DejaVu Sans Mono',consolas,'Courier New',monospace\"><span style=\"color: #d70000; text-decoration-color: #d70000\">Ringo Starr</span> attacks <span style=\"color: #005fd7; text-decoration-color: #005fd7\">John Lennon</span> for <span style=\"color: #008080; text-decoration-color: #008080; font-weight: bold\">10</span> damage\n",
              "</pre>\n"
            ]
          },
          "metadata": {}
        },
        {
          "output_type": "display_data",
          "data": {
            "text/plain": [
              "\u001b[38;5;88mJohn Lennon died!\u001b[0m\n"
            ],
            "text/html": [
              "<pre style=\"white-space:pre;overflow-x:auto;line-height:normal;font-family:Menlo,'DejaVu Sans Mono',consolas,'Courier New',monospace\"><span style=\"color: #870000; text-decoration-color: #870000\">John Lennon died!</span>\n",
              "</pre>\n"
            ]
          },
          "metadata": {}
        },
        {
          "output_type": "display_data",
          "data": {
            "text/plain": [
              "\u001b[38;5;220mRingo Starr\u001b[0m rewarded with \u001b[38;5;178m \u001b[0m\u001b[1;38;5;178m10\u001b[0m\u001b[38;5;178m \u001b[0m health points\n"
            ],
            "text/html": [
              "<pre style=\"white-space:pre;overflow-x:auto;line-height:normal;font-family:Menlo,'DejaVu Sans Mono',consolas,'Courier New',monospace\"><span style=\"color: #ffd700; text-decoration-color: #ffd700\">Ringo Starr</span> rewarded with <span style=\"color: #d7af00; text-decoration-color: #d7af00\"> </span><span style=\"color: #d7af00; text-decoration-color: #d7af00; font-weight: bold\">10</span><span style=\"color: #d7af00; text-decoration-color: #d7af00\"> </span> health points\n",
              "</pre>\n"
            ]
          },
          "metadata": {}
        },
        {
          "output_type": "display_data",
          "data": {
            "text/plain": [
              "\n",
              " \u001b[38;5;172m--- ROUND \u001b[0m\u001b[1;38;5;172m13\u001b[0m\u001b[38;5;172m ---\u001b[0m\n"
            ],
            "text/html": [
              "<pre style=\"white-space:pre;overflow-x:auto;line-height:normal;font-family:Menlo,'DejaVu Sans Mono',consolas,'Courier New',monospace\">\n",
              " <span style=\"color: #d78700; text-decoration-color: #d78700\">--- ROUND </span><span style=\"color: #d78700; text-decoration-color: #d78700; font-weight: bold\">13</span><span style=\"color: #d78700; text-decoration-color: #d78700\"> ---</span>\n",
              "</pre>\n"
            ]
          },
          "metadata": {}
        },
        {
          "output_type": "display_data",
          "data": {
            "text/plain": [
              "\u001b[38;5;160mJohn Lennon\u001b[0m attacks \u001b[38;5;26mRingo Starr\u001b[0m for \u001b[1;36m10\u001b[0m damage\n"
            ],
            "text/html": [
              "<pre style=\"white-space:pre;overflow-x:auto;line-height:normal;font-family:Menlo,'DejaVu Sans Mono',consolas,'Courier New',monospace\"><span style=\"color: #d70000; text-decoration-color: #d70000\">John Lennon</span> attacks <span style=\"color: #005fd7; text-decoration-color: #005fd7\">Ringo Starr</span> for <span style=\"color: #008080; text-decoration-color: #008080; font-weight: bold\">10</span> damage\n",
              "</pre>\n"
            ]
          },
          "metadata": {}
        },
        {
          "output_type": "display_data",
          "data": {
            "text/plain": [
              "\u001b[38;5;160mRingo Starr\u001b[0m attacks \u001b[38;5;26mJohn Lennon\u001b[0m for \u001b[1;36m10\u001b[0m damage\n"
            ],
            "text/html": [
              "<pre style=\"white-space:pre;overflow-x:auto;line-height:normal;font-family:Menlo,'DejaVu Sans Mono',consolas,'Courier New',monospace\"><span style=\"color: #d70000; text-decoration-color: #d70000\">Ringo Starr</span> attacks <span style=\"color: #005fd7; text-decoration-color: #005fd7\">John Lennon</span> for <span style=\"color: #008080; text-decoration-color: #008080; font-weight: bold\">10</span> damage\n",
              "</pre>\n"
            ]
          },
          "metadata": {}
        },
        {
          "output_type": "display_data",
          "data": {
            "text/plain": [
              "\u001b[38;5;88mJohn Lennon died!\u001b[0m\n"
            ],
            "text/html": [
              "<pre style=\"white-space:pre;overflow-x:auto;line-height:normal;font-family:Menlo,'DejaVu Sans Mono',consolas,'Courier New',monospace\"><span style=\"color: #870000; text-decoration-color: #870000\">John Lennon died!</span>\n",
              "</pre>\n"
            ]
          },
          "metadata": {}
        },
        {
          "output_type": "display_data",
          "data": {
            "text/plain": [
              "\u001b[38;5;220mRingo Starr\u001b[0m rewarded with \u001b[38;5;178m \u001b[0m\u001b[1;38;5;178m10\u001b[0m\u001b[38;5;178m \u001b[0m health points\n"
            ],
            "text/html": [
              "<pre style=\"white-space:pre;overflow-x:auto;line-height:normal;font-family:Menlo,'DejaVu Sans Mono',consolas,'Courier New',monospace\"><span style=\"color: #ffd700; text-decoration-color: #ffd700\">Ringo Starr</span> rewarded with <span style=\"color: #d7af00; text-decoration-color: #d7af00\"> </span><span style=\"color: #d7af00; text-decoration-color: #d7af00; font-weight: bold\">10</span><span style=\"color: #d7af00; text-decoration-color: #d7af00\"> </span> health points\n",
              "</pre>\n"
            ]
          },
          "metadata": {}
        },
        {
          "output_type": "display_data",
          "data": {
            "text/plain": [
              "\n",
              " \u001b[38;5;172m--- ROUND \u001b[0m\u001b[1;38;5;172m14\u001b[0m\u001b[38;5;172m ---\u001b[0m\n"
            ],
            "text/html": [
              "<pre style=\"white-space:pre;overflow-x:auto;line-height:normal;font-family:Menlo,'DejaVu Sans Mono',consolas,'Courier New',monospace\">\n",
              " <span style=\"color: #d78700; text-decoration-color: #d78700\">--- ROUND </span><span style=\"color: #d78700; text-decoration-color: #d78700; font-weight: bold\">14</span><span style=\"color: #d78700; text-decoration-color: #d78700\"> ---</span>\n",
              "</pre>\n"
            ]
          },
          "metadata": {}
        },
        {
          "output_type": "display_data",
          "data": {
            "text/plain": [
              "\u001b[38;5;160mJohn Lennon\u001b[0m attacks \u001b[38;5;26mRingo Starr\u001b[0m for \u001b[1;36m10\u001b[0m damage\n"
            ],
            "text/html": [
              "<pre style=\"white-space:pre;overflow-x:auto;line-height:normal;font-family:Menlo,'DejaVu Sans Mono',consolas,'Courier New',monospace\"><span style=\"color: #d70000; text-decoration-color: #d70000\">John Lennon</span> attacks <span style=\"color: #005fd7; text-decoration-color: #005fd7\">Ringo Starr</span> for <span style=\"color: #008080; text-decoration-color: #008080; font-weight: bold\">10</span> damage\n",
              "</pre>\n"
            ]
          },
          "metadata": {}
        },
        {
          "output_type": "display_data",
          "data": {
            "text/plain": [
              "\u001b[38;5;160mRingo Starr\u001b[0m attacks \u001b[38;5;26mJohn Lennon\u001b[0m for \u001b[1;36m10\u001b[0m damage\n"
            ],
            "text/html": [
              "<pre style=\"white-space:pre;overflow-x:auto;line-height:normal;font-family:Menlo,'DejaVu Sans Mono',consolas,'Courier New',monospace\"><span style=\"color: #d70000; text-decoration-color: #d70000\">Ringo Starr</span> attacks <span style=\"color: #005fd7; text-decoration-color: #005fd7\">John Lennon</span> for <span style=\"color: #008080; text-decoration-color: #008080; font-weight: bold\">10</span> damage\n",
              "</pre>\n"
            ]
          },
          "metadata": {}
        },
        {
          "output_type": "display_data",
          "data": {
            "text/plain": [
              "\u001b[38;5;88mJohn Lennon died!\u001b[0m\n"
            ],
            "text/html": [
              "<pre style=\"white-space:pre;overflow-x:auto;line-height:normal;font-family:Menlo,'DejaVu Sans Mono',consolas,'Courier New',monospace\"><span style=\"color: #870000; text-decoration-color: #870000\">John Lennon died!</span>\n",
              "</pre>\n"
            ]
          },
          "metadata": {}
        },
        {
          "output_type": "display_data",
          "data": {
            "text/plain": [
              "\u001b[38;5;220mRingo Starr\u001b[0m rewarded with \u001b[38;5;178m \u001b[0m\u001b[1;38;5;178m10\u001b[0m\u001b[38;5;178m \u001b[0m health points\n"
            ],
            "text/html": [
              "<pre style=\"white-space:pre;overflow-x:auto;line-height:normal;font-family:Menlo,'DejaVu Sans Mono',consolas,'Courier New',monospace\"><span style=\"color: #ffd700; text-decoration-color: #ffd700\">Ringo Starr</span> rewarded with <span style=\"color: #d7af00; text-decoration-color: #d7af00\"> </span><span style=\"color: #d7af00; text-decoration-color: #d7af00; font-weight: bold\">10</span><span style=\"color: #d7af00; text-decoration-color: #d7af00\"> </span> health points\n",
              "</pre>\n"
            ]
          },
          "metadata": {}
        },
        {
          "output_type": "display_data",
          "data": {
            "text/plain": [
              "\n",
              " \u001b[38;5;172m--- ROUND \u001b[0m\u001b[1;38;5;172m15\u001b[0m\u001b[38;5;172m ---\u001b[0m\n"
            ],
            "text/html": [
              "<pre style=\"white-space:pre;overflow-x:auto;line-height:normal;font-family:Menlo,'DejaVu Sans Mono',consolas,'Courier New',monospace\">\n",
              " <span style=\"color: #d78700; text-decoration-color: #d78700\">--- ROUND </span><span style=\"color: #d78700; text-decoration-color: #d78700; font-weight: bold\">15</span><span style=\"color: #d78700; text-decoration-color: #d78700\"> ---</span>\n",
              "</pre>\n"
            ]
          },
          "metadata": {}
        },
        {
          "output_type": "display_data",
          "data": {
            "text/plain": [
              "\u001b[38;5;160mJohn Lennon\u001b[0m attacks \u001b[38;5;26mRingo Starr\u001b[0m for \u001b[1;36m10\u001b[0m damage\n"
            ],
            "text/html": [
              "<pre style=\"white-space:pre;overflow-x:auto;line-height:normal;font-family:Menlo,'DejaVu Sans Mono',consolas,'Courier New',monospace\"><span style=\"color: #d70000; text-decoration-color: #d70000\">John Lennon</span> attacks <span style=\"color: #005fd7; text-decoration-color: #005fd7\">Ringo Starr</span> for <span style=\"color: #008080; text-decoration-color: #008080; font-weight: bold\">10</span> damage\n",
              "</pre>\n"
            ]
          },
          "metadata": {}
        },
        {
          "output_type": "display_data",
          "data": {
            "text/plain": [
              "\u001b[38;5;160mRingo Starr\u001b[0m attacks \u001b[38;5;26mJohn Lennon\u001b[0m for \u001b[1;36m10\u001b[0m damage\n"
            ],
            "text/html": [
              "<pre style=\"white-space:pre;overflow-x:auto;line-height:normal;font-family:Menlo,'DejaVu Sans Mono',consolas,'Courier New',monospace\"><span style=\"color: #d70000; text-decoration-color: #d70000\">Ringo Starr</span> attacks <span style=\"color: #005fd7; text-decoration-color: #005fd7\">John Lennon</span> for <span style=\"color: #008080; text-decoration-color: #008080; font-weight: bold\">10</span> damage\n",
              "</pre>\n"
            ]
          },
          "metadata": {}
        },
        {
          "output_type": "display_data",
          "data": {
            "text/plain": [
              "\u001b[38;5;88mJohn Lennon died!\u001b[0m\n"
            ],
            "text/html": [
              "<pre style=\"white-space:pre;overflow-x:auto;line-height:normal;font-family:Menlo,'DejaVu Sans Mono',consolas,'Courier New',monospace\"><span style=\"color: #870000; text-decoration-color: #870000\">John Lennon died!</span>\n",
              "</pre>\n"
            ]
          },
          "metadata": {}
        },
        {
          "output_type": "display_data",
          "data": {
            "text/plain": [
              "\u001b[38;5;220mRingo Starr\u001b[0m rewarded with \u001b[38;5;178m \u001b[0m\u001b[1;38;5;178m10\u001b[0m\u001b[38;5;178m \u001b[0m health points\n"
            ],
            "text/html": [
              "<pre style=\"white-space:pre;overflow-x:auto;line-height:normal;font-family:Menlo,'DejaVu Sans Mono',consolas,'Courier New',monospace\"><span style=\"color: #ffd700; text-decoration-color: #ffd700\">Ringo Starr</span> rewarded with <span style=\"color: #d7af00; text-decoration-color: #d7af00\"> </span><span style=\"color: #d7af00; text-decoration-color: #d7af00; font-weight: bold\">10</span><span style=\"color: #d7af00; text-decoration-color: #d7af00\"> </span> health points\n",
              "</pre>\n"
            ]
          },
          "metadata": {}
        },
        {
          "output_type": "display_data",
          "data": {
            "text/plain": [
              "\n",
              " \u001b[38;5;172m--- ROUND \u001b[0m\u001b[1;38;5;172m16\u001b[0m\u001b[38;5;172m ---\u001b[0m\n"
            ],
            "text/html": [
              "<pre style=\"white-space:pre;overflow-x:auto;line-height:normal;font-family:Menlo,'DejaVu Sans Mono',consolas,'Courier New',monospace\">\n",
              " <span style=\"color: #d78700; text-decoration-color: #d78700\">--- ROUND </span><span style=\"color: #d78700; text-decoration-color: #d78700; font-weight: bold\">16</span><span style=\"color: #d78700; text-decoration-color: #d78700\"> ---</span>\n",
              "</pre>\n"
            ]
          },
          "metadata": {}
        },
        {
          "output_type": "display_data",
          "data": {
            "text/plain": [
              "\u001b[38;5;160mJohn Lennon\u001b[0m attacks \u001b[38;5;26mRingo Starr\u001b[0m for \u001b[1;36m10\u001b[0m damage\n"
            ],
            "text/html": [
              "<pre style=\"white-space:pre;overflow-x:auto;line-height:normal;font-family:Menlo,'DejaVu Sans Mono',consolas,'Courier New',monospace\"><span style=\"color: #d70000; text-decoration-color: #d70000\">John Lennon</span> attacks <span style=\"color: #005fd7; text-decoration-color: #005fd7\">Ringo Starr</span> for <span style=\"color: #008080; text-decoration-color: #008080; font-weight: bold\">10</span> damage\n",
              "</pre>\n"
            ]
          },
          "metadata": {}
        },
        {
          "output_type": "display_data",
          "data": {
            "text/plain": [
              "\u001b[38;5;160mRingo Starr\u001b[0m attacks \u001b[38;5;26mJohn Lennon\u001b[0m for \u001b[1;36m10\u001b[0m damage\n"
            ],
            "text/html": [
              "<pre style=\"white-space:pre;overflow-x:auto;line-height:normal;font-family:Menlo,'DejaVu Sans Mono',consolas,'Courier New',monospace\"><span style=\"color: #d70000; text-decoration-color: #d70000\">Ringo Starr</span> attacks <span style=\"color: #005fd7; text-decoration-color: #005fd7\">John Lennon</span> for <span style=\"color: #008080; text-decoration-color: #008080; font-weight: bold\">10</span> damage\n",
              "</pre>\n"
            ]
          },
          "metadata": {}
        },
        {
          "output_type": "display_data",
          "data": {
            "text/plain": [
              "\u001b[38;5;88mJohn Lennon died!\u001b[0m\n"
            ],
            "text/html": [
              "<pre style=\"white-space:pre;overflow-x:auto;line-height:normal;font-family:Menlo,'DejaVu Sans Mono',consolas,'Courier New',monospace\"><span style=\"color: #870000; text-decoration-color: #870000\">John Lennon died!</span>\n",
              "</pre>\n"
            ]
          },
          "metadata": {}
        },
        {
          "output_type": "display_data",
          "data": {
            "text/plain": [
              "\u001b[38;5;220mRingo Starr\u001b[0m rewarded with \u001b[38;5;178m \u001b[0m\u001b[1;38;5;178m10\u001b[0m\u001b[38;5;178m \u001b[0m health points\n"
            ],
            "text/html": [
              "<pre style=\"white-space:pre;overflow-x:auto;line-height:normal;font-family:Menlo,'DejaVu Sans Mono',consolas,'Courier New',monospace\"><span style=\"color: #ffd700; text-decoration-color: #ffd700\">Ringo Starr</span> rewarded with <span style=\"color: #d7af00; text-decoration-color: #d7af00\"> </span><span style=\"color: #d7af00; text-decoration-color: #d7af00; font-weight: bold\">10</span><span style=\"color: #d7af00; text-decoration-color: #d7af00\"> </span> health points\n",
              "</pre>\n"
            ]
          },
          "metadata": {}
        },
        {
          "output_type": "display_data",
          "data": {
            "text/plain": [
              "\n",
              " \u001b[38;5;172m--- ROUND \u001b[0m\u001b[1;38;5;172m17\u001b[0m\u001b[38;5;172m ---\u001b[0m\n"
            ],
            "text/html": [
              "<pre style=\"white-space:pre;overflow-x:auto;line-height:normal;font-family:Menlo,'DejaVu Sans Mono',consolas,'Courier New',monospace\">\n",
              " <span style=\"color: #d78700; text-decoration-color: #d78700\">--- ROUND </span><span style=\"color: #d78700; text-decoration-color: #d78700; font-weight: bold\">17</span><span style=\"color: #d78700; text-decoration-color: #d78700\"> ---</span>\n",
              "</pre>\n"
            ]
          },
          "metadata": {}
        },
        {
          "output_type": "display_data",
          "data": {
            "text/plain": [
              "\u001b[38;5;160mJohn Lennon\u001b[0m attacks \u001b[38;5;26mRingo Starr\u001b[0m for \u001b[1;36m10\u001b[0m damage\n"
            ],
            "text/html": [
              "<pre style=\"white-space:pre;overflow-x:auto;line-height:normal;font-family:Menlo,'DejaVu Sans Mono',consolas,'Courier New',monospace\"><span style=\"color: #d70000; text-decoration-color: #d70000\">John Lennon</span> attacks <span style=\"color: #005fd7; text-decoration-color: #005fd7\">Ringo Starr</span> for <span style=\"color: #008080; text-decoration-color: #008080; font-weight: bold\">10</span> damage\n",
              "</pre>\n"
            ]
          },
          "metadata": {}
        },
        {
          "output_type": "display_data",
          "data": {
            "text/plain": [
              "\u001b[38;5;160mRingo Starr\u001b[0m attacks \u001b[38;5;26mJohn Lennon\u001b[0m for \u001b[1;36m10\u001b[0m damage\n"
            ],
            "text/html": [
              "<pre style=\"white-space:pre;overflow-x:auto;line-height:normal;font-family:Menlo,'DejaVu Sans Mono',consolas,'Courier New',monospace\"><span style=\"color: #d70000; text-decoration-color: #d70000\">Ringo Starr</span> attacks <span style=\"color: #005fd7; text-decoration-color: #005fd7\">John Lennon</span> for <span style=\"color: #008080; text-decoration-color: #008080; font-weight: bold\">10</span> damage\n",
              "</pre>\n"
            ]
          },
          "metadata": {}
        },
        {
          "output_type": "display_data",
          "data": {
            "text/plain": [
              "\u001b[38;5;88mJohn Lennon died!\u001b[0m\n"
            ],
            "text/html": [
              "<pre style=\"white-space:pre;overflow-x:auto;line-height:normal;font-family:Menlo,'DejaVu Sans Mono',consolas,'Courier New',monospace\"><span style=\"color: #870000; text-decoration-color: #870000\">John Lennon died!</span>\n",
              "</pre>\n"
            ]
          },
          "metadata": {}
        },
        {
          "output_type": "display_data",
          "data": {
            "text/plain": [
              "\u001b[38;5;220mRingo Starr\u001b[0m rewarded with \u001b[38;5;178m \u001b[0m\u001b[1;38;5;178m10\u001b[0m\u001b[38;5;178m \u001b[0m health points\n"
            ],
            "text/html": [
              "<pre style=\"white-space:pre;overflow-x:auto;line-height:normal;font-family:Menlo,'DejaVu Sans Mono',consolas,'Courier New',monospace\"><span style=\"color: #ffd700; text-decoration-color: #ffd700\">Ringo Starr</span> rewarded with <span style=\"color: #d7af00; text-decoration-color: #d7af00\"> </span><span style=\"color: #d7af00; text-decoration-color: #d7af00; font-weight: bold\">10</span><span style=\"color: #d7af00; text-decoration-color: #d7af00\"> </span> health points\n",
              "</pre>\n"
            ]
          },
          "metadata": {}
        },
        {
          "output_type": "display_data",
          "data": {
            "text/plain": [
              "\n",
              " \u001b[38;5;172m--- ROUND \u001b[0m\u001b[1;38;5;172m18\u001b[0m\u001b[38;5;172m ---\u001b[0m\n"
            ],
            "text/html": [
              "<pre style=\"white-space:pre;overflow-x:auto;line-height:normal;font-family:Menlo,'DejaVu Sans Mono',consolas,'Courier New',monospace\">\n",
              " <span style=\"color: #d78700; text-decoration-color: #d78700\">--- ROUND </span><span style=\"color: #d78700; text-decoration-color: #d78700; font-weight: bold\">18</span><span style=\"color: #d78700; text-decoration-color: #d78700\"> ---</span>\n",
              "</pre>\n"
            ]
          },
          "metadata": {}
        },
        {
          "output_type": "display_data",
          "data": {
            "text/plain": [
              "\u001b[38;5;160mJohn Lennon\u001b[0m attacks \u001b[38;5;26mRingo Starr\u001b[0m for \u001b[1;36m10\u001b[0m damage\n"
            ],
            "text/html": [
              "<pre style=\"white-space:pre;overflow-x:auto;line-height:normal;font-family:Menlo,'DejaVu Sans Mono',consolas,'Courier New',monospace\"><span style=\"color: #d70000; text-decoration-color: #d70000\">John Lennon</span> attacks <span style=\"color: #005fd7; text-decoration-color: #005fd7\">Ringo Starr</span> for <span style=\"color: #008080; text-decoration-color: #008080; font-weight: bold\">10</span> damage\n",
              "</pre>\n"
            ]
          },
          "metadata": {}
        },
        {
          "output_type": "display_data",
          "data": {
            "text/plain": [
              "\u001b[38;5;160mRingo Starr\u001b[0m attacks \u001b[38;5;26mJohn Lennon\u001b[0m for \u001b[1;36m10\u001b[0m damage\n"
            ],
            "text/html": [
              "<pre style=\"white-space:pre;overflow-x:auto;line-height:normal;font-family:Menlo,'DejaVu Sans Mono',consolas,'Courier New',monospace\"><span style=\"color: #d70000; text-decoration-color: #d70000\">Ringo Starr</span> attacks <span style=\"color: #005fd7; text-decoration-color: #005fd7\">John Lennon</span> for <span style=\"color: #008080; text-decoration-color: #008080; font-weight: bold\">10</span> damage\n",
              "</pre>\n"
            ]
          },
          "metadata": {}
        },
        {
          "output_type": "display_data",
          "data": {
            "text/plain": [
              "\u001b[38;5;88mJohn Lennon died!\u001b[0m\n"
            ],
            "text/html": [
              "<pre style=\"white-space:pre;overflow-x:auto;line-height:normal;font-family:Menlo,'DejaVu Sans Mono',consolas,'Courier New',monospace\"><span style=\"color: #870000; text-decoration-color: #870000\">John Lennon died!</span>\n",
              "</pre>\n"
            ]
          },
          "metadata": {}
        },
        {
          "output_type": "display_data",
          "data": {
            "text/plain": [
              "\u001b[38;5;220mRingo Starr\u001b[0m rewarded with \u001b[38;5;178m \u001b[0m\u001b[1;38;5;178m10\u001b[0m\u001b[38;5;178m \u001b[0m health points\n"
            ],
            "text/html": [
              "<pre style=\"white-space:pre;overflow-x:auto;line-height:normal;font-family:Menlo,'DejaVu Sans Mono',consolas,'Courier New',monospace\"><span style=\"color: #ffd700; text-decoration-color: #ffd700\">Ringo Starr</span> rewarded with <span style=\"color: #d7af00; text-decoration-color: #d7af00\"> </span><span style=\"color: #d7af00; text-decoration-color: #d7af00; font-weight: bold\">10</span><span style=\"color: #d7af00; text-decoration-color: #d7af00\"> </span> health points\n",
              "</pre>\n"
            ]
          },
          "metadata": {}
        },
        {
          "output_type": "display_data",
          "data": {
            "text/plain": [
              "\n",
              " \u001b[38;5;172m--- ROUND \u001b[0m\u001b[1;38;5;172m19\u001b[0m\u001b[38;5;172m ---\u001b[0m\n"
            ],
            "text/html": [
              "<pre style=\"white-space:pre;overflow-x:auto;line-height:normal;font-family:Menlo,'DejaVu Sans Mono',consolas,'Courier New',monospace\">\n",
              " <span style=\"color: #d78700; text-decoration-color: #d78700\">--- ROUND </span><span style=\"color: #d78700; text-decoration-color: #d78700; font-weight: bold\">19</span><span style=\"color: #d78700; text-decoration-color: #d78700\"> ---</span>\n",
              "</pre>\n"
            ]
          },
          "metadata": {}
        },
        {
          "output_type": "display_data",
          "data": {
            "text/plain": [
              "\u001b[38;5;160mJohn Lennon\u001b[0m attacks \u001b[38;5;26mRingo Starr\u001b[0m for \u001b[1;36m10\u001b[0m damage\n"
            ],
            "text/html": [
              "<pre style=\"white-space:pre;overflow-x:auto;line-height:normal;font-family:Menlo,'DejaVu Sans Mono',consolas,'Courier New',monospace\"><span style=\"color: #d70000; text-decoration-color: #d70000\">John Lennon</span> attacks <span style=\"color: #005fd7; text-decoration-color: #005fd7\">Ringo Starr</span> for <span style=\"color: #008080; text-decoration-color: #008080; font-weight: bold\">10</span> damage\n",
              "</pre>\n"
            ]
          },
          "metadata": {}
        },
        {
          "output_type": "display_data",
          "data": {
            "text/plain": [
              "\u001b[38;5;160mRingo Starr\u001b[0m attacks \u001b[38;5;26mJohn Lennon\u001b[0m for \u001b[1;36m10\u001b[0m damage\n"
            ],
            "text/html": [
              "<pre style=\"white-space:pre;overflow-x:auto;line-height:normal;font-family:Menlo,'DejaVu Sans Mono',consolas,'Courier New',monospace\"><span style=\"color: #d70000; text-decoration-color: #d70000\">Ringo Starr</span> attacks <span style=\"color: #005fd7; text-decoration-color: #005fd7\">John Lennon</span> for <span style=\"color: #008080; text-decoration-color: #008080; font-weight: bold\">10</span> damage\n",
              "</pre>\n"
            ]
          },
          "metadata": {}
        },
        {
          "output_type": "display_data",
          "data": {
            "text/plain": [
              "\u001b[38;5;88mJohn Lennon died!\u001b[0m\n"
            ],
            "text/html": [
              "<pre style=\"white-space:pre;overflow-x:auto;line-height:normal;font-family:Menlo,'DejaVu Sans Mono',consolas,'Courier New',monospace\"><span style=\"color: #870000; text-decoration-color: #870000\">John Lennon died!</span>\n",
              "</pre>\n"
            ]
          },
          "metadata": {}
        },
        {
          "output_type": "display_data",
          "data": {
            "text/plain": [
              "\u001b[38;5;220mRingo Starr\u001b[0m rewarded with \u001b[38;5;178m \u001b[0m\u001b[1;38;5;178m10\u001b[0m\u001b[38;5;178m \u001b[0m health points\n"
            ],
            "text/html": [
              "<pre style=\"white-space:pre;overflow-x:auto;line-height:normal;font-family:Menlo,'DejaVu Sans Mono',consolas,'Courier New',monospace\"><span style=\"color: #ffd700; text-decoration-color: #ffd700\">Ringo Starr</span> rewarded with <span style=\"color: #d7af00; text-decoration-color: #d7af00\"> </span><span style=\"color: #d7af00; text-decoration-color: #d7af00; font-weight: bold\">10</span><span style=\"color: #d7af00; text-decoration-color: #d7af00\"> </span> health points\n",
              "</pre>\n"
            ]
          },
          "metadata": {}
        },
        {
          "output_type": "display_data",
          "data": {
            "text/plain": [
              "\n",
              " \u001b[38;5;172m--- ROUND \u001b[0m\u001b[1;38;5;172m20\u001b[0m\u001b[38;5;172m ---\u001b[0m\n"
            ],
            "text/html": [
              "<pre style=\"white-space:pre;overflow-x:auto;line-height:normal;font-family:Menlo,'DejaVu Sans Mono',consolas,'Courier New',monospace\">\n",
              " <span style=\"color: #d78700; text-decoration-color: #d78700\">--- ROUND </span><span style=\"color: #d78700; text-decoration-color: #d78700; font-weight: bold\">20</span><span style=\"color: #d78700; text-decoration-color: #d78700\"> ---</span>\n",
              "</pre>\n"
            ]
          },
          "metadata": {}
        },
        {
          "output_type": "display_data",
          "data": {
            "text/plain": [
              "\u001b[38;5;160mJohn Lennon\u001b[0m attacks \u001b[38;5;26mRingo Starr\u001b[0m for \u001b[1;36m10\u001b[0m damage\n"
            ],
            "text/html": [
              "<pre style=\"white-space:pre;overflow-x:auto;line-height:normal;font-family:Menlo,'DejaVu Sans Mono',consolas,'Courier New',monospace\"><span style=\"color: #d70000; text-decoration-color: #d70000\">John Lennon</span> attacks <span style=\"color: #005fd7; text-decoration-color: #005fd7\">Ringo Starr</span> for <span style=\"color: #008080; text-decoration-color: #008080; font-weight: bold\">10</span> damage\n",
              "</pre>\n"
            ]
          },
          "metadata": {}
        },
        {
          "output_type": "display_data",
          "data": {
            "text/plain": [
              "\u001b[38;5;160mRingo Starr\u001b[0m attacks \u001b[38;5;26mJohn Lennon\u001b[0m for \u001b[1;36m10\u001b[0m damage\n"
            ],
            "text/html": [
              "<pre style=\"white-space:pre;overflow-x:auto;line-height:normal;font-family:Menlo,'DejaVu Sans Mono',consolas,'Courier New',monospace\"><span style=\"color: #d70000; text-decoration-color: #d70000\">Ringo Starr</span> attacks <span style=\"color: #005fd7; text-decoration-color: #005fd7\">John Lennon</span> for <span style=\"color: #008080; text-decoration-color: #008080; font-weight: bold\">10</span> damage\n",
              "</pre>\n"
            ]
          },
          "metadata": {}
        },
        {
          "output_type": "display_data",
          "data": {
            "text/plain": [
              "\u001b[38;5;88mJohn Lennon died!\u001b[0m\n"
            ],
            "text/html": [
              "<pre style=\"white-space:pre;overflow-x:auto;line-height:normal;font-family:Menlo,'DejaVu Sans Mono',consolas,'Courier New',monospace\"><span style=\"color: #870000; text-decoration-color: #870000\">John Lennon died!</span>\n",
              "</pre>\n"
            ]
          },
          "metadata": {}
        },
        {
          "output_type": "display_data",
          "data": {
            "text/plain": [
              "\u001b[38;5;220mRingo Starr\u001b[0m rewarded with \u001b[38;5;178m \u001b[0m\u001b[1;38;5;178m10\u001b[0m\u001b[38;5;178m \u001b[0m health points\n"
            ],
            "text/html": [
              "<pre style=\"white-space:pre;overflow-x:auto;line-height:normal;font-family:Menlo,'DejaVu Sans Mono',consolas,'Courier New',monospace\"><span style=\"color: #ffd700; text-decoration-color: #ffd700\">Ringo Starr</span> rewarded with <span style=\"color: #d7af00; text-decoration-color: #d7af00\"> </span><span style=\"color: #d7af00; text-decoration-color: #d7af00; font-weight: bold\">10</span><span style=\"color: #d7af00; text-decoration-color: #d7af00\"> </span> health points\n",
              "</pre>\n"
            ]
          },
          "metadata": {}
        },
        {
          "output_type": "display_data",
          "data": {
            "text/plain": [
              "\n",
              " \u001b[38;5;172m--- ROUND \u001b[0m\u001b[1;38;5;172m21\u001b[0m\u001b[38;5;172m ---\u001b[0m\n"
            ],
            "text/html": [
              "<pre style=\"white-space:pre;overflow-x:auto;line-height:normal;font-family:Menlo,'DejaVu Sans Mono',consolas,'Courier New',monospace\">\n",
              " <span style=\"color: #d78700; text-decoration-color: #d78700\">--- ROUND </span><span style=\"color: #d78700; text-decoration-color: #d78700; font-weight: bold\">21</span><span style=\"color: #d78700; text-decoration-color: #d78700\"> ---</span>\n",
              "</pre>\n"
            ]
          },
          "metadata": {}
        },
        {
          "output_type": "display_data",
          "data": {
            "text/plain": [
              "\u001b[38;5;160mJohn Lennon\u001b[0m attacks \u001b[38;5;26mRingo Starr\u001b[0m for \u001b[1;36m10\u001b[0m damage\n"
            ],
            "text/html": [
              "<pre style=\"white-space:pre;overflow-x:auto;line-height:normal;font-family:Menlo,'DejaVu Sans Mono',consolas,'Courier New',monospace\"><span style=\"color: #d70000; text-decoration-color: #d70000\">John Lennon</span> attacks <span style=\"color: #005fd7; text-decoration-color: #005fd7\">Ringo Starr</span> for <span style=\"color: #008080; text-decoration-color: #008080; font-weight: bold\">10</span> damage\n",
              "</pre>\n"
            ]
          },
          "metadata": {}
        },
        {
          "output_type": "display_data",
          "data": {
            "text/plain": [
              "\u001b[38;5;160mRingo Starr\u001b[0m attacks \u001b[38;5;26mJohn Lennon\u001b[0m for \u001b[1;36m10\u001b[0m damage\n"
            ],
            "text/html": [
              "<pre style=\"white-space:pre;overflow-x:auto;line-height:normal;font-family:Menlo,'DejaVu Sans Mono',consolas,'Courier New',monospace\"><span style=\"color: #d70000; text-decoration-color: #d70000\">Ringo Starr</span> attacks <span style=\"color: #005fd7; text-decoration-color: #005fd7\">John Lennon</span> for <span style=\"color: #008080; text-decoration-color: #008080; font-weight: bold\">10</span> damage\n",
              "</pre>\n"
            ]
          },
          "metadata": {}
        },
        {
          "output_type": "display_data",
          "data": {
            "text/plain": [
              "\u001b[38;5;88mJohn Lennon died!\u001b[0m\n"
            ],
            "text/html": [
              "<pre style=\"white-space:pre;overflow-x:auto;line-height:normal;font-family:Menlo,'DejaVu Sans Mono',consolas,'Courier New',monospace\"><span style=\"color: #870000; text-decoration-color: #870000\">John Lennon died!</span>\n",
              "</pre>\n"
            ]
          },
          "metadata": {}
        },
        {
          "output_type": "display_data",
          "data": {
            "text/plain": [
              "\u001b[38;5;220mRingo Starr\u001b[0m rewarded with \u001b[38;5;178m \u001b[0m\u001b[1;38;5;178m10\u001b[0m\u001b[38;5;178m \u001b[0m health points\n"
            ],
            "text/html": [
              "<pre style=\"white-space:pre;overflow-x:auto;line-height:normal;font-family:Menlo,'DejaVu Sans Mono',consolas,'Courier New',monospace\"><span style=\"color: #ffd700; text-decoration-color: #ffd700\">Ringo Starr</span> rewarded with <span style=\"color: #d7af00; text-decoration-color: #d7af00\"> </span><span style=\"color: #d7af00; text-decoration-color: #d7af00; font-weight: bold\">10</span><span style=\"color: #d7af00; text-decoration-color: #d7af00\"> </span> health points\n",
              "</pre>\n"
            ]
          },
          "metadata": {}
        },
        {
          "output_type": "display_data",
          "data": {
            "text/plain": [
              "\n",
              " \u001b[38;5;172m--- ROUND \u001b[0m\u001b[1;38;5;172m22\u001b[0m\u001b[38;5;172m ---\u001b[0m\n"
            ],
            "text/html": [
              "<pre style=\"white-space:pre;overflow-x:auto;line-height:normal;font-family:Menlo,'DejaVu Sans Mono',consolas,'Courier New',monospace\">\n",
              " <span style=\"color: #d78700; text-decoration-color: #d78700\">--- ROUND </span><span style=\"color: #d78700; text-decoration-color: #d78700; font-weight: bold\">22</span><span style=\"color: #d78700; text-decoration-color: #d78700\"> ---</span>\n",
              "</pre>\n"
            ]
          },
          "metadata": {}
        },
        {
          "output_type": "display_data",
          "data": {
            "text/plain": [
              "\u001b[38;5;160mJohn Lennon\u001b[0m attacks \u001b[38;5;26mRingo Starr\u001b[0m for \u001b[1;36m10\u001b[0m damage\n"
            ],
            "text/html": [
              "<pre style=\"white-space:pre;overflow-x:auto;line-height:normal;font-family:Menlo,'DejaVu Sans Mono',consolas,'Courier New',monospace\"><span style=\"color: #d70000; text-decoration-color: #d70000\">John Lennon</span> attacks <span style=\"color: #005fd7; text-decoration-color: #005fd7\">Ringo Starr</span> for <span style=\"color: #008080; text-decoration-color: #008080; font-weight: bold\">10</span> damage\n",
              "</pre>\n"
            ]
          },
          "metadata": {}
        },
        {
          "output_type": "display_data",
          "data": {
            "text/plain": [
              "\u001b[38;5;160mRingo Starr\u001b[0m attacks \u001b[38;5;26mJohn Lennon\u001b[0m for \u001b[1;36m10\u001b[0m damage\n"
            ],
            "text/html": [
              "<pre style=\"white-space:pre;overflow-x:auto;line-height:normal;font-family:Menlo,'DejaVu Sans Mono',consolas,'Courier New',monospace\"><span style=\"color: #d70000; text-decoration-color: #d70000\">Ringo Starr</span> attacks <span style=\"color: #005fd7; text-decoration-color: #005fd7\">John Lennon</span> for <span style=\"color: #008080; text-decoration-color: #008080; font-weight: bold\">10</span> damage\n",
              "</pre>\n"
            ]
          },
          "metadata": {}
        },
        {
          "output_type": "display_data",
          "data": {
            "text/plain": [
              "\u001b[38;5;88mJohn Lennon died!\u001b[0m\n"
            ],
            "text/html": [
              "<pre style=\"white-space:pre;overflow-x:auto;line-height:normal;font-family:Menlo,'DejaVu Sans Mono',consolas,'Courier New',monospace\"><span style=\"color: #870000; text-decoration-color: #870000\">John Lennon died!</span>\n",
              "</pre>\n"
            ]
          },
          "metadata": {}
        },
        {
          "output_type": "display_data",
          "data": {
            "text/plain": [
              "\u001b[38;5;220mRingo Starr\u001b[0m rewarded with \u001b[38;5;178m \u001b[0m\u001b[1;38;5;178m10\u001b[0m\u001b[38;5;178m \u001b[0m health points\n"
            ],
            "text/html": [
              "<pre style=\"white-space:pre;overflow-x:auto;line-height:normal;font-family:Menlo,'DejaVu Sans Mono',consolas,'Courier New',monospace\"><span style=\"color: #ffd700; text-decoration-color: #ffd700\">Ringo Starr</span> rewarded with <span style=\"color: #d7af00; text-decoration-color: #d7af00\"> </span><span style=\"color: #d7af00; text-decoration-color: #d7af00; font-weight: bold\">10</span><span style=\"color: #d7af00; text-decoration-color: #d7af00\"> </span> health points\n",
              "</pre>\n"
            ]
          },
          "metadata": {}
        },
        {
          "output_type": "display_data",
          "data": {
            "text/plain": [
              "\n",
              " \u001b[38;5;172m--- ROUND \u001b[0m\u001b[1;38;5;172m23\u001b[0m\u001b[38;5;172m ---\u001b[0m\n"
            ],
            "text/html": [
              "<pre style=\"white-space:pre;overflow-x:auto;line-height:normal;font-family:Menlo,'DejaVu Sans Mono',consolas,'Courier New',monospace\">\n",
              " <span style=\"color: #d78700; text-decoration-color: #d78700\">--- ROUND </span><span style=\"color: #d78700; text-decoration-color: #d78700; font-weight: bold\">23</span><span style=\"color: #d78700; text-decoration-color: #d78700\"> ---</span>\n",
              "</pre>\n"
            ]
          },
          "metadata": {}
        },
        {
          "output_type": "display_data",
          "data": {
            "text/plain": [
              "\u001b[38;5;160mJohn Lennon\u001b[0m attacks \u001b[38;5;26mRingo Starr\u001b[0m for \u001b[1;36m10\u001b[0m damage\n"
            ],
            "text/html": [
              "<pre style=\"white-space:pre;overflow-x:auto;line-height:normal;font-family:Menlo,'DejaVu Sans Mono',consolas,'Courier New',monospace\"><span style=\"color: #d70000; text-decoration-color: #d70000\">John Lennon</span> attacks <span style=\"color: #005fd7; text-decoration-color: #005fd7\">Ringo Starr</span> for <span style=\"color: #008080; text-decoration-color: #008080; font-weight: bold\">10</span> damage\n",
              "</pre>\n"
            ]
          },
          "metadata": {}
        },
        {
          "output_type": "display_data",
          "data": {
            "text/plain": [
              "\u001b[38;5;160mRingo Starr\u001b[0m attacks \u001b[38;5;26mJohn Lennon\u001b[0m for \u001b[1;36m10\u001b[0m damage\n"
            ],
            "text/html": [
              "<pre style=\"white-space:pre;overflow-x:auto;line-height:normal;font-family:Menlo,'DejaVu Sans Mono',consolas,'Courier New',monospace\"><span style=\"color: #d70000; text-decoration-color: #d70000\">Ringo Starr</span> attacks <span style=\"color: #005fd7; text-decoration-color: #005fd7\">John Lennon</span> for <span style=\"color: #008080; text-decoration-color: #008080; font-weight: bold\">10</span> damage\n",
              "</pre>\n"
            ]
          },
          "metadata": {}
        },
        {
          "output_type": "display_data",
          "data": {
            "text/plain": [
              "\u001b[38;5;88mJohn Lennon died!\u001b[0m\n"
            ],
            "text/html": [
              "<pre style=\"white-space:pre;overflow-x:auto;line-height:normal;font-family:Menlo,'DejaVu Sans Mono',consolas,'Courier New',monospace\"><span style=\"color: #870000; text-decoration-color: #870000\">John Lennon died!</span>\n",
              "</pre>\n"
            ]
          },
          "metadata": {}
        },
        {
          "output_type": "display_data",
          "data": {
            "text/plain": [
              "\u001b[38;5;220mRingo Starr\u001b[0m rewarded with \u001b[38;5;178m \u001b[0m\u001b[1;38;5;178m10\u001b[0m\u001b[38;5;178m \u001b[0m health points\n"
            ],
            "text/html": [
              "<pre style=\"white-space:pre;overflow-x:auto;line-height:normal;font-family:Menlo,'DejaVu Sans Mono',consolas,'Courier New',monospace\"><span style=\"color: #ffd700; text-decoration-color: #ffd700\">Ringo Starr</span> rewarded with <span style=\"color: #d7af00; text-decoration-color: #d7af00\"> </span><span style=\"color: #d7af00; text-decoration-color: #d7af00; font-weight: bold\">10</span><span style=\"color: #d7af00; text-decoration-color: #d7af00\"> </span> health points\n",
              "</pre>\n"
            ]
          },
          "metadata": {}
        },
        {
          "output_type": "display_data",
          "data": {
            "text/plain": [
              "\n",
              " \u001b[38;5;172m--- ROUND \u001b[0m\u001b[1;38;5;172m24\u001b[0m\u001b[38;5;172m ---\u001b[0m\n"
            ],
            "text/html": [
              "<pre style=\"white-space:pre;overflow-x:auto;line-height:normal;font-family:Menlo,'DejaVu Sans Mono',consolas,'Courier New',monospace\">\n",
              " <span style=\"color: #d78700; text-decoration-color: #d78700\">--- ROUND </span><span style=\"color: #d78700; text-decoration-color: #d78700; font-weight: bold\">24</span><span style=\"color: #d78700; text-decoration-color: #d78700\"> ---</span>\n",
              "</pre>\n"
            ]
          },
          "metadata": {}
        },
        {
          "output_type": "display_data",
          "data": {
            "text/plain": [
              "\u001b[38;5;160mJohn Lennon\u001b[0m attacks \u001b[38;5;26mRingo Starr\u001b[0m for \u001b[1;36m10\u001b[0m damage\n"
            ],
            "text/html": [
              "<pre style=\"white-space:pre;overflow-x:auto;line-height:normal;font-family:Menlo,'DejaVu Sans Mono',consolas,'Courier New',monospace\"><span style=\"color: #d70000; text-decoration-color: #d70000\">John Lennon</span> attacks <span style=\"color: #005fd7; text-decoration-color: #005fd7\">Ringo Starr</span> for <span style=\"color: #008080; text-decoration-color: #008080; font-weight: bold\">10</span> damage\n",
              "</pre>\n"
            ]
          },
          "metadata": {}
        },
        {
          "output_type": "display_data",
          "data": {
            "text/plain": [
              "\u001b[38;5;160mRingo Starr\u001b[0m attacks \u001b[38;5;26mJohn Lennon\u001b[0m for \u001b[1;36m10\u001b[0m damage\n"
            ],
            "text/html": [
              "<pre style=\"white-space:pre;overflow-x:auto;line-height:normal;font-family:Menlo,'DejaVu Sans Mono',consolas,'Courier New',monospace\"><span style=\"color: #d70000; text-decoration-color: #d70000\">Ringo Starr</span> attacks <span style=\"color: #005fd7; text-decoration-color: #005fd7\">John Lennon</span> for <span style=\"color: #008080; text-decoration-color: #008080; font-weight: bold\">10</span> damage\n",
              "</pre>\n"
            ]
          },
          "metadata": {}
        },
        {
          "output_type": "display_data",
          "data": {
            "text/plain": [
              "\u001b[38;5;88mJohn Lennon died!\u001b[0m\n"
            ],
            "text/html": [
              "<pre style=\"white-space:pre;overflow-x:auto;line-height:normal;font-family:Menlo,'DejaVu Sans Mono',consolas,'Courier New',monospace\"><span style=\"color: #870000; text-decoration-color: #870000\">John Lennon died!</span>\n",
              "</pre>\n"
            ]
          },
          "metadata": {}
        },
        {
          "output_type": "display_data",
          "data": {
            "text/plain": [
              "\u001b[38;5;220mRingo Starr\u001b[0m rewarded with \u001b[38;5;178m \u001b[0m\u001b[1;38;5;178m10\u001b[0m\u001b[38;5;178m \u001b[0m health points\n"
            ],
            "text/html": [
              "<pre style=\"white-space:pre;overflow-x:auto;line-height:normal;font-family:Menlo,'DejaVu Sans Mono',consolas,'Courier New',monospace\"><span style=\"color: #ffd700; text-decoration-color: #ffd700\">Ringo Starr</span> rewarded with <span style=\"color: #d7af00; text-decoration-color: #d7af00\"> </span><span style=\"color: #d7af00; text-decoration-color: #d7af00; font-weight: bold\">10</span><span style=\"color: #d7af00; text-decoration-color: #d7af00\"> </span> health points\n",
              "</pre>\n"
            ]
          },
          "metadata": {}
        },
        {
          "output_type": "display_data",
          "data": {
            "text/plain": [
              "\n",
              " \u001b[38;5;172m--- ROUND \u001b[0m\u001b[1;38;5;172m25\u001b[0m\u001b[38;5;172m ---\u001b[0m\n"
            ],
            "text/html": [
              "<pre style=\"white-space:pre;overflow-x:auto;line-height:normal;font-family:Menlo,'DejaVu Sans Mono',consolas,'Courier New',monospace\">\n",
              " <span style=\"color: #d78700; text-decoration-color: #d78700\">--- ROUND </span><span style=\"color: #d78700; text-decoration-color: #d78700; font-weight: bold\">25</span><span style=\"color: #d78700; text-decoration-color: #d78700\"> ---</span>\n",
              "</pre>\n"
            ]
          },
          "metadata": {}
        },
        {
          "output_type": "display_data",
          "data": {
            "text/plain": [
              "\u001b[38;5;160mJohn Lennon\u001b[0m attacks \u001b[38;5;26mRingo Starr\u001b[0m for \u001b[1;36m10\u001b[0m damage\n"
            ],
            "text/html": [
              "<pre style=\"white-space:pre;overflow-x:auto;line-height:normal;font-family:Menlo,'DejaVu Sans Mono',consolas,'Courier New',monospace\"><span style=\"color: #d70000; text-decoration-color: #d70000\">John Lennon</span> attacks <span style=\"color: #005fd7; text-decoration-color: #005fd7\">Ringo Starr</span> for <span style=\"color: #008080; text-decoration-color: #008080; font-weight: bold\">10</span> damage\n",
              "</pre>\n"
            ]
          },
          "metadata": {}
        },
        {
          "output_type": "display_data",
          "data": {
            "text/plain": [
              "\u001b[38;5;88mRingo Starr died!\u001b[0m\n"
            ],
            "text/html": [
              "<pre style=\"white-space:pre;overflow-x:auto;line-height:normal;font-family:Menlo,'DejaVu Sans Mono',consolas,'Courier New',monospace\"><span style=\"color: #870000; text-decoration-color: #870000\">Ringo Starr died!</span>\n",
              "</pre>\n"
            ]
          },
          "metadata": {}
        },
        {
          "output_type": "display_data",
          "data": {
            "text/plain": [
              "\u001b[38;5;220mJohn Lennon\u001b[0m rewarded with \u001b[38;5;178m \u001b[0m\u001b[1;38;5;178m10\u001b[0m\u001b[38;5;178m \u001b[0m health points\n"
            ],
            "text/html": [
              "<pre style=\"white-space:pre;overflow-x:auto;line-height:normal;font-family:Menlo,'DejaVu Sans Mono',consolas,'Courier New',monospace\"><span style=\"color: #ffd700; text-decoration-color: #ffd700\">John Lennon</span> rewarded with <span style=\"color: #d7af00; text-decoration-color: #d7af00\"> </span><span style=\"color: #d7af00; text-decoration-color: #d7af00; font-weight: bold\">10</span><span style=\"color: #d7af00; text-decoration-color: #d7af00\"> </span> health points\n",
              "</pre>\n"
            ]
          },
          "metadata": {}
        },
        {
          "output_type": "display_data",
          "data": {
            "text/plain": [
              "\u001b[38;5;160mRingo Starr\u001b[0m attacks \u001b[38;5;26mJohn Lennon\u001b[0m for \u001b[1;36m10\u001b[0m damage\n"
            ],
            "text/html": [
              "<pre style=\"white-space:pre;overflow-x:auto;line-height:normal;font-family:Menlo,'DejaVu Sans Mono',consolas,'Courier New',monospace\"><span style=\"color: #d70000; text-decoration-color: #d70000\">Ringo Starr</span> attacks <span style=\"color: #005fd7; text-decoration-color: #005fd7\">John Lennon</span> for <span style=\"color: #008080; text-decoration-color: #008080; font-weight: bold\">10</span> damage\n",
              "</pre>\n"
            ]
          },
          "metadata": {}
        },
        {
          "output_type": "display_data",
          "data": {
            "text/plain": [
              "\n",
              " \u001b[38;5;172m--- ROUND \u001b[0m\u001b[1;38;5;172m26\u001b[0m\u001b[38;5;172m ---\u001b[0m\n"
            ],
            "text/html": [
              "<pre style=\"white-space:pre;overflow-x:auto;line-height:normal;font-family:Menlo,'DejaVu Sans Mono',consolas,'Courier New',monospace\">\n",
              " <span style=\"color: #d78700; text-decoration-color: #d78700\">--- ROUND </span><span style=\"color: #d78700; text-decoration-color: #d78700; font-weight: bold\">26</span><span style=\"color: #d78700; text-decoration-color: #d78700\"> ---</span>\n",
              "</pre>\n"
            ]
          },
          "metadata": {}
        },
        {
          "output_type": "display_data",
          "data": {
            "text/plain": [
              "\u001b[38;5;160mJohn Lennon\u001b[0m attacks \u001b[38;5;26mRingo Starr\u001b[0m for \u001b[1;36m10\u001b[0m damage\n"
            ],
            "text/html": [
              "<pre style=\"white-space:pre;overflow-x:auto;line-height:normal;font-family:Menlo,'DejaVu Sans Mono',consolas,'Courier New',monospace\"><span style=\"color: #d70000; text-decoration-color: #d70000\">John Lennon</span> attacks <span style=\"color: #005fd7; text-decoration-color: #005fd7\">Ringo Starr</span> for <span style=\"color: #008080; text-decoration-color: #008080; font-weight: bold\">10</span> damage\n",
              "</pre>\n"
            ]
          },
          "metadata": {}
        },
        {
          "output_type": "display_data",
          "data": {
            "text/plain": [
              "\u001b[38;5;160mRingo Starr\u001b[0m attacks \u001b[38;5;26mJohn Lennon\u001b[0m for \u001b[1;36m10\u001b[0m damage\n"
            ],
            "text/html": [
              "<pre style=\"white-space:pre;overflow-x:auto;line-height:normal;font-family:Menlo,'DejaVu Sans Mono',consolas,'Courier New',monospace\"><span style=\"color: #d70000; text-decoration-color: #d70000\">Ringo Starr</span> attacks <span style=\"color: #005fd7; text-decoration-color: #005fd7\">John Lennon</span> for <span style=\"color: #008080; text-decoration-color: #008080; font-weight: bold\">10</span> damage\n",
              "</pre>\n"
            ]
          },
          "metadata": {}
        },
        {
          "output_type": "display_data",
          "data": {
            "text/plain": [
              "\u001b[38;5;88mJohn Lennon died!\u001b[0m\n"
            ],
            "text/html": [
              "<pre style=\"white-space:pre;overflow-x:auto;line-height:normal;font-family:Menlo,'DejaVu Sans Mono',consolas,'Courier New',monospace\"><span style=\"color: #870000; text-decoration-color: #870000\">John Lennon died!</span>\n",
              "</pre>\n"
            ]
          },
          "metadata": {}
        },
        {
          "output_type": "display_data",
          "data": {
            "text/plain": [
              "\u001b[38;5;220mRingo Starr\u001b[0m rewarded with \u001b[38;5;178m \u001b[0m\u001b[1;38;5;178m10\u001b[0m\u001b[38;5;178m \u001b[0m health points\n"
            ],
            "text/html": [
              "<pre style=\"white-space:pre;overflow-x:auto;line-height:normal;font-family:Menlo,'DejaVu Sans Mono',consolas,'Courier New',monospace\"><span style=\"color: #ffd700; text-decoration-color: #ffd700\">Ringo Starr</span> rewarded with <span style=\"color: #d7af00; text-decoration-color: #d7af00\"> </span><span style=\"color: #d7af00; text-decoration-color: #d7af00; font-weight: bold\">10</span><span style=\"color: #d7af00; text-decoration-color: #d7af00\"> </span> health points\n",
              "</pre>\n"
            ]
          },
          "metadata": {}
        },
        {
          "output_type": "display_data",
          "data": {
            "text/plain": [
              "\n",
              " \u001b[38;5;172m--- ROUND \u001b[0m\u001b[1;38;5;172m27\u001b[0m\u001b[38;5;172m ---\u001b[0m\n"
            ],
            "text/html": [
              "<pre style=\"white-space:pre;overflow-x:auto;line-height:normal;font-family:Menlo,'DejaVu Sans Mono',consolas,'Courier New',monospace\">\n",
              " <span style=\"color: #d78700; text-decoration-color: #d78700\">--- ROUND </span><span style=\"color: #d78700; text-decoration-color: #d78700; font-weight: bold\">27</span><span style=\"color: #d78700; text-decoration-color: #d78700\"> ---</span>\n",
              "</pre>\n"
            ]
          },
          "metadata": {}
        },
        {
          "output_type": "display_data",
          "data": {
            "text/plain": [
              "\u001b[38;5;160mJohn Lennon\u001b[0m attacks \u001b[38;5;26mRingo Starr\u001b[0m for \u001b[1;36m10\u001b[0m damage\n"
            ],
            "text/html": [
              "<pre style=\"white-space:pre;overflow-x:auto;line-height:normal;font-family:Menlo,'DejaVu Sans Mono',consolas,'Courier New',monospace\"><span style=\"color: #d70000; text-decoration-color: #d70000\">John Lennon</span> attacks <span style=\"color: #005fd7; text-decoration-color: #005fd7\">Ringo Starr</span> for <span style=\"color: #008080; text-decoration-color: #008080; font-weight: bold\">10</span> damage\n",
              "</pre>\n"
            ]
          },
          "metadata": {}
        },
        {
          "output_type": "display_data",
          "data": {
            "text/plain": [
              "\u001b[38;5;160mRingo Starr\u001b[0m attacks \u001b[38;5;26mJohn Lennon\u001b[0m for \u001b[1;36m10\u001b[0m damage\n"
            ],
            "text/html": [
              "<pre style=\"white-space:pre;overflow-x:auto;line-height:normal;font-family:Menlo,'DejaVu Sans Mono',consolas,'Courier New',monospace\"><span style=\"color: #d70000; text-decoration-color: #d70000\">Ringo Starr</span> attacks <span style=\"color: #005fd7; text-decoration-color: #005fd7\">John Lennon</span> for <span style=\"color: #008080; text-decoration-color: #008080; font-weight: bold\">10</span> damage\n",
              "</pre>\n"
            ]
          },
          "metadata": {}
        },
        {
          "output_type": "display_data",
          "data": {
            "text/plain": [
              "\u001b[38;5;88mJohn Lennon died!\u001b[0m\n"
            ],
            "text/html": [
              "<pre style=\"white-space:pre;overflow-x:auto;line-height:normal;font-family:Menlo,'DejaVu Sans Mono',consolas,'Courier New',monospace\"><span style=\"color: #870000; text-decoration-color: #870000\">John Lennon died!</span>\n",
              "</pre>\n"
            ]
          },
          "metadata": {}
        },
        {
          "output_type": "display_data",
          "data": {
            "text/plain": [
              "\u001b[38;5;220mRingo Starr\u001b[0m rewarded with \u001b[38;5;178m \u001b[0m\u001b[1;38;5;178m10\u001b[0m\u001b[38;5;178m \u001b[0m health points\n"
            ],
            "text/html": [
              "<pre style=\"white-space:pre;overflow-x:auto;line-height:normal;font-family:Menlo,'DejaVu Sans Mono',consolas,'Courier New',monospace\"><span style=\"color: #ffd700; text-decoration-color: #ffd700\">Ringo Starr</span> rewarded with <span style=\"color: #d7af00; text-decoration-color: #d7af00\"> </span><span style=\"color: #d7af00; text-decoration-color: #d7af00; font-weight: bold\">10</span><span style=\"color: #d7af00; text-decoration-color: #d7af00\"> </span> health points\n",
              "</pre>\n"
            ]
          },
          "metadata": {}
        },
        {
          "output_type": "display_data",
          "data": {
            "text/plain": [
              "\n",
              " \u001b[38;5;172m--- ROUND \u001b[0m\u001b[1;38;5;172m28\u001b[0m\u001b[38;5;172m ---\u001b[0m\n"
            ],
            "text/html": [
              "<pre style=\"white-space:pre;overflow-x:auto;line-height:normal;font-family:Menlo,'DejaVu Sans Mono',consolas,'Courier New',monospace\">\n",
              " <span style=\"color: #d78700; text-decoration-color: #d78700\">--- ROUND </span><span style=\"color: #d78700; text-decoration-color: #d78700; font-weight: bold\">28</span><span style=\"color: #d78700; text-decoration-color: #d78700\"> ---</span>\n",
              "</pre>\n"
            ]
          },
          "metadata": {}
        },
        {
          "output_type": "display_data",
          "data": {
            "text/plain": [
              "\u001b[38;5;160mJohn Lennon\u001b[0m attacks \u001b[38;5;26mRingo Starr\u001b[0m for \u001b[1;36m10\u001b[0m damage\n"
            ],
            "text/html": [
              "<pre style=\"white-space:pre;overflow-x:auto;line-height:normal;font-family:Menlo,'DejaVu Sans Mono',consolas,'Courier New',monospace\"><span style=\"color: #d70000; text-decoration-color: #d70000\">John Lennon</span> attacks <span style=\"color: #005fd7; text-decoration-color: #005fd7\">Ringo Starr</span> for <span style=\"color: #008080; text-decoration-color: #008080; font-weight: bold\">10</span> damage\n",
              "</pre>\n"
            ]
          },
          "metadata": {}
        },
        {
          "output_type": "display_data",
          "data": {
            "text/plain": [
              "\u001b[38;5;160mRingo Starr\u001b[0m attacks \u001b[38;5;26mJohn Lennon\u001b[0m for \u001b[1;36m10\u001b[0m damage\n"
            ],
            "text/html": [
              "<pre style=\"white-space:pre;overflow-x:auto;line-height:normal;font-family:Menlo,'DejaVu Sans Mono',consolas,'Courier New',monospace\"><span style=\"color: #d70000; text-decoration-color: #d70000\">Ringo Starr</span> attacks <span style=\"color: #005fd7; text-decoration-color: #005fd7\">John Lennon</span> for <span style=\"color: #008080; text-decoration-color: #008080; font-weight: bold\">10</span> damage\n",
              "</pre>\n"
            ]
          },
          "metadata": {}
        },
        {
          "output_type": "display_data",
          "data": {
            "text/plain": [
              "\u001b[38;5;88mJohn Lennon died!\u001b[0m\n"
            ],
            "text/html": [
              "<pre style=\"white-space:pre;overflow-x:auto;line-height:normal;font-family:Menlo,'DejaVu Sans Mono',consolas,'Courier New',monospace\"><span style=\"color: #870000; text-decoration-color: #870000\">John Lennon died!</span>\n",
              "</pre>\n"
            ]
          },
          "metadata": {}
        },
        {
          "output_type": "display_data",
          "data": {
            "text/plain": [
              "\u001b[38;5;220mRingo Starr\u001b[0m rewarded with \u001b[38;5;178m \u001b[0m\u001b[1;38;5;178m10\u001b[0m\u001b[38;5;178m \u001b[0m health points\n"
            ],
            "text/html": [
              "<pre style=\"white-space:pre;overflow-x:auto;line-height:normal;font-family:Menlo,'DejaVu Sans Mono',consolas,'Courier New',monospace\"><span style=\"color: #ffd700; text-decoration-color: #ffd700\">Ringo Starr</span> rewarded with <span style=\"color: #d7af00; text-decoration-color: #d7af00\"> </span><span style=\"color: #d7af00; text-decoration-color: #d7af00; font-weight: bold\">10</span><span style=\"color: #d7af00; text-decoration-color: #d7af00\"> </span> health points\n",
              "</pre>\n"
            ]
          },
          "metadata": {}
        },
        {
          "output_type": "display_data",
          "data": {
            "text/plain": [
              "\n",
              " \u001b[38;5;172m--- ROUND \u001b[0m\u001b[1;38;5;172m29\u001b[0m\u001b[38;5;172m ---\u001b[0m\n"
            ],
            "text/html": [
              "<pre style=\"white-space:pre;overflow-x:auto;line-height:normal;font-family:Menlo,'DejaVu Sans Mono',consolas,'Courier New',monospace\">\n",
              " <span style=\"color: #d78700; text-decoration-color: #d78700\">--- ROUND </span><span style=\"color: #d78700; text-decoration-color: #d78700; font-weight: bold\">29</span><span style=\"color: #d78700; text-decoration-color: #d78700\"> ---</span>\n",
              "</pre>\n"
            ]
          },
          "metadata": {}
        },
        {
          "output_type": "display_data",
          "data": {
            "text/plain": [
              "\u001b[38;5;160mJohn Lennon\u001b[0m attacks \u001b[38;5;26mRingo Starr\u001b[0m for \u001b[1;36m10\u001b[0m damage\n"
            ],
            "text/html": [
              "<pre style=\"white-space:pre;overflow-x:auto;line-height:normal;font-family:Menlo,'DejaVu Sans Mono',consolas,'Courier New',monospace\"><span style=\"color: #d70000; text-decoration-color: #d70000\">John Lennon</span> attacks <span style=\"color: #005fd7; text-decoration-color: #005fd7\">Ringo Starr</span> for <span style=\"color: #008080; text-decoration-color: #008080; font-weight: bold\">10</span> damage\n",
              "</pre>\n"
            ]
          },
          "metadata": {}
        },
        {
          "output_type": "display_data",
          "data": {
            "text/plain": [
              "\u001b[38;5;160mRingo Starr\u001b[0m attacks \u001b[38;5;26mJohn Lennon\u001b[0m for \u001b[1;36m10\u001b[0m damage\n"
            ],
            "text/html": [
              "<pre style=\"white-space:pre;overflow-x:auto;line-height:normal;font-family:Menlo,'DejaVu Sans Mono',consolas,'Courier New',monospace\"><span style=\"color: #d70000; text-decoration-color: #d70000\">Ringo Starr</span> attacks <span style=\"color: #005fd7; text-decoration-color: #005fd7\">John Lennon</span> for <span style=\"color: #008080; text-decoration-color: #008080; font-weight: bold\">10</span> damage\n",
              "</pre>\n"
            ]
          },
          "metadata": {}
        },
        {
          "output_type": "display_data",
          "data": {
            "text/plain": [
              "\u001b[38;5;88mJohn Lennon died!\u001b[0m\n"
            ],
            "text/html": [
              "<pre style=\"white-space:pre;overflow-x:auto;line-height:normal;font-family:Menlo,'DejaVu Sans Mono',consolas,'Courier New',monospace\"><span style=\"color: #870000; text-decoration-color: #870000\">John Lennon died!</span>\n",
              "</pre>\n"
            ]
          },
          "metadata": {}
        },
        {
          "output_type": "display_data",
          "data": {
            "text/plain": [
              "\u001b[38;5;220mRingo Starr\u001b[0m rewarded with \u001b[38;5;178m \u001b[0m\u001b[1;38;5;178m10\u001b[0m\u001b[38;5;178m \u001b[0m health points\n"
            ],
            "text/html": [
              "<pre style=\"white-space:pre;overflow-x:auto;line-height:normal;font-family:Menlo,'DejaVu Sans Mono',consolas,'Courier New',monospace\"><span style=\"color: #ffd700; text-decoration-color: #ffd700\">Ringo Starr</span> rewarded with <span style=\"color: #d7af00; text-decoration-color: #d7af00\"> </span><span style=\"color: #d7af00; text-decoration-color: #d7af00; font-weight: bold\">10</span><span style=\"color: #d7af00; text-decoration-color: #d7af00\"> </span> health points\n",
              "</pre>\n"
            ]
          },
          "metadata": {}
        },
        {
          "output_type": "display_data",
          "data": {
            "text/plain": [
              "\n",
              " \u001b[38;5;172m--- ROUND \u001b[0m\u001b[1;38;5;172m30\u001b[0m\u001b[38;5;172m ---\u001b[0m\n"
            ],
            "text/html": [
              "<pre style=\"white-space:pre;overflow-x:auto;line-height:normal;font-family:Menlo,'DejaVu Sans Mono',consolas,'Courier New',monospace\">\n",
              " <span style=\"color: #d78700; text-decoration-color: #d78700\">--- ROUND </span><span style=\"color: #d78700; text-decoration-color: #d78700; font-weight: bold\">30</span><span style=\"color: #d78700; text-decoration-color: #d78700\"> ---</span>\n",
              "</pre>\n"
            ]
          },
          "metadata": {}
        },
        {
          "output_type": "display_data",
          "data": {
            "text/plain": [
              "\u001b[38;5;160mJohn Lennon\u001b[0m attacks \u001b[38;5;26mRingo Starr\u001b[0m for \u001b[1;36m10\u001b[0m damage\n"
            ],
            "text/html": [
              "<pre style=\"white-space:pre;overflow-x:auto;line-height:normal;font-family:Menlo,'DejaVu Sans Mono',consolas,'Courier New',monospace\"><span style=\"color: #d70000; text-decoration-color: #d70000\">John Lennon</span> attacks <span style=\"color: #005fd7; text-decoration-color: #005fd7\">Ringo Starr</span> for <span style=\"color: #008080; text-decoration-color: #008080; font-weight: bold\">10</span> damage\n",
              "</pre>\n"
            ]
          },
          "metadata": {}
        },
        {
          "output_type": "display_data",
          "data": {
            "text/plain": [
              "\u001b[38;5;160mRingo Starr\u001b[0m attacks \u001b[38;5;26mJohn Lennon\u001b[0m for \u001b[1;36m10\u001b[0m damage\n"
            ],
            "text/html": [
              "<pre style=\"white-space:pre;overflow-x:auto;line-height:normal;font-family:Menlo,'DejaVu Sans Mono',consolas,'Courier New',monospace\"><span style=\"color: #d70000; text-decoration-color: #d70000\">Ringo Starr</span> attacks <span style=\"color: #005fd7; text-decoration-color: #005fd7\">John Lennon</span> for <span style=\"color: #008080; text-decoration-color: #008080; font-weight: bold\">10</span> damage\n",
              "</pre>\n"
            ]
          },
          "metadata": {}
        },
        {
          "output_type": "display_data",
          "data": {
            "text/plain": [
              "\u001b[38;5;88mJohn Lennon died!\u001b[0m\n"
            ],
            "text/html": [
              "<pre style=\"white-space:pre;overflow-x:auto;line-height:normal;font-family:Menlo,'DejaVu Sans Mono',consolas,'Courier New',monospace\"><span style=\"color: #870000; text-decoration-color: #870000\">John Lennon died!</span>\n",
              "</pre>\n"
            ]
          },
          "metadata": {}
        },
        {
          "output_type": "display_data",
          "data": {
            "text/plain": [
              "\u001b[38;5;220mRingo Starr\u001b[0m rewarded with \u001b[38;5;178m \u001b[0m\u001b[1;38;5;178m10\u001b[0m\u001b[38;5;178m \u001b[0m health points\n"
            ],
            "text/html": [
              "<pre style=\"white-space:pre;overflow-x:auto;line-height:normal;font-family:Menlo,'DejaVu Sans Mono',consolas,'Courier New',monospace\"><span style=\"color: #ffd700; text-decoration-color: #ffd700\">Ringo Starr</span> rewarded with <span style=\"color: #d7af00; text-decoration-color: #d7af00\"> </span><span style=\"color: #d7af00; text-decoration-color: #d7af00; font-weight: bold\">10</span><span style=\"color: #d7af00; text-decoration-color: #d7af00\"> </span> health points\n",
              "</pre>\n"
            ]
          },
          "metadata": {}
        },
        {
          "output_type": "display_data",
          "data": {
            "text/plain": [
              "\n",
              " \u001b[38;5;172m--- ROUND \u001b[0m\u001b[1;38;5;172m31\u001b[0m\u001b[38;5;172m ---\u001b[0m\n"
            ],
            "text/html": [
              "<pre style=\"white-space:pre;overflow-x:auto;line-height:normal;font-family:Menlo,'DejaVu Sans Mono',consolas,'Courier New',monospace\">\n",
              " <span style=\"color: #d78700; text-decoration-color: #d78700\">--- ROUND </span><span style=\"color: #d78700; text-decoration-color: #d78700; font-weight: bold\">31</span><span style=\"color: #d78700; text-decoration-color: #d78700\"> ---</span>\n",
              "</pre>\n"
            ]
          },
          "metadata": {}
        },
        {
          "output_type": "display_data",
          "data": {
            "text/plain": [
              "\u001b[38;5;160mJohn Lennon\u001b[0m attacks \u001b[38;5;26mRingo Starr\u001b[0m for \u001b[1;36m10\u001b[0m damage\n"
            ],
            "text/html": [
              "<pre style=\"white-space:pre;overflow-x:auto;line-height:normal;font-family:Menlo,'DejaVu Sans Mono',consolas,'Courier New',monospace\"><span style=\"color: #d70000; text-decoration-color: #d70000\">John Lennon</span> attacks <span style=\"color: #005fd7; text-decoration-color: #005fd7\">Ringo Starr</span> for <span style=\"color: #008080; text-decoration-color: #008080; font-weight: bold\">10</span> damage\n",
              "</pre>\n"
            ]
          },
          "metadata": {}
        },
        {
          "output_type": "display_data",
          "data": {
            "text/plain": [
              "\u001b[38;5;160mRingo Starr\u001b[0m attacks \u001b[38;5;26mJohn Lennon\u001b[0m for \u001b[1;36m10\u001b[0m damage\n"
            ],
            "text/html": [
              "<pre style=\"white-space:pre;overflow-x:auto;line-height:normal;font-family:Menlo,'DejaVu Sans Mono',consolas,'Courier New',monospace\"><span style=\"color: #d70000; text-decoration-color: #d70000\">Ringo Starr</span> attacks <span style=\"color: #005fd7; text-decoration-color: #005fd7\">John Lennon</span> for <span style=\"color: #008080; text-decoration-color: #008080; font-weight: bold\">10</span> damage\n",
              "</pre>\n"
            ]
          },
          "metadata": {}
        },
        {
          "output_type": "display_data",
          "data": {
            "text/plain": [
              "\u001b[38;5;88mJohn Lennon died!\u001b[0m\n"
            ],
            "text/html": [
              "<pre style=\"white-space:pre;overflow-x:auto;line-height:normal;font-family:Menlo,'DejaVu Sans Mono',consolas,'Courier New',monospace\"><span style=\"color: #870000; text-decoration-color: #870000\">John Lennon died!</span>\n",
              "</pre>\n"
            ]
          },
          "metadata": {}
        },
        {
          "output_type": "display_data",
          "data": {
            "text/plain": [
              "\u001b[38;5;220mRingo Starr\u001b[0m rewarded with \u001b[38;5;178m \u001b[0m\u001b[1;38;5;178m10\u001b[0m\u001b[38;5;178m \u001b[0m health points\n"
            ],
            "text/html": [
              "<pre style=\"white-space:pre;overflow-x:auto;line-height:normal;font-family:Menlo,'DejaVu Sans Mono',consolas,'Courier New',monospace\"><span style=\"color: #ffd700; text-decoration-color: #ffd700\">Ringo Starr</span> rewarded with <span style=\"color: #d7af00; text-decoration-color: #d7af00\"> </span><span style=\"color: #d7af00; text-decoration-color: #d7af00; font-weight: bold\">10</span><span style=\"color: #d7af00; text-decoration-color: #d7af00\"> </span> health points\n",
              "</pre>\n"
            ]
          },
          "metadata": {}
        },
        {
          "output_type": "display_data",
          "data": {
            "text/plain": [
              "\n",
              "\u001b[38;5;76mJohn Lennon wins!\u001b[0m\n"
            ],
            "text/html": [
              "<pre style=\"white-space:pre;overflow-x:auto;line-height:normal;font-family:Menlo,'DejaVu Sans Mono',consolas,'Courier New',monospace\">\n",
              "<span style=\"color: #5fd700; text-decoration-color: #5fd700\">John Lennon wins!</span>\n",
              "</pre>\n"
            ]
          },
          "metadata": {}
        }
      ]
    }
  ]
}