{
  "nbformat": 4,
  "nbformat_minor": 0,
  "metadata": {
    "colab": {
      "provenance": []
    },
    "kernelspec": {
      "name": "python3",
      "display_name": "Python 3"
    },
    "language_info": {
      "name": "python"
    }
  },
  "cells": [
    {
      "cell_type": "code",
      "execution_count": 13,
      "metadata": {
        "colab": {
          "base_uri": "https://localhost:8080/"
        },
        "id": "Tz33zLoR1s4b",
        "outputId": "5e030449-4939-4918-8616-057f30748edf"
      },
      "outputs": [
        {
          "output_type": "stream",
          "name": "stdout",
          "text": [
            "Enter a positive integer number of of rows in your triangle: 9\n",
            "          1           \n",
            "         1 1          \n",
            "        1 2 1         \n",
            "       1 3 3 1        \n",
            "      1 4 6 4 1       \n",
            "    1 5 10 10 5 1     \n",
            "   1 6 15 20 15 6 1   \n",
            " 1 7 21 35 35 21 7 1  \n",
            "1 8 28 56 70 56 28 8 1\n"
          ]
        }
      ],
      "source": [
        "#я иногда пишу заметки для себя, чтобы при пересмотре кода мне был понятен механизм работы\n",
        "\n",
        "try:\n",
        "    n = int(input('Enter a positive integer number of of rows in your triangle: '))\n",
        "    if n <= 0:\n",
        "        print('Error. Enter a positive integer.')\n",
        "    else:\n",
        "        triangle = []\n",
        "except ValueError:\n",
        "    print('Error. Enter a positive integer.')\n",
        "else:\n",
        "\n",
        "  for i in range(0,n):  #номер строки - i\n",
        "      row = [1] * (i+1)\n",
        "      for j in range(1,i): #номер строки - j  (показывает номер элемента в строке); идём от 1 так как на индексе 0 стоит 1\n",
        "          row[j] = triangle[i-1][j-1] + triangle[i-1][j]\n",
        "      triangle.append(row)\n",
        "\n",
        "  last_row_str = ' '.join(str(x) for x in triangle[-1])\n",
        "  max_width = len(last_row_str)\n",
        "\n",
        "  for row in triangle:\n",
        "      row_str = ' '.join(str(x) for x in row)\n",
        "      print(row_str.center(max_width))"
      ]
    }
  ]
}