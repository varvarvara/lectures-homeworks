{
  "nbformat": 4,
  "nbformat_minor": 0,
  "metadata": {
    "colab": {
      "provenance": []
    },
    "kernelspec": {
      "name": "python3",
      "display_name": "Python 3"
    },
    "language_info": {
      "name": "python"
    }
  },
  "cells": [
    {
      "cell_type": "code",
      "execution_count": null,
      "metadata": {
        "colab": {
          "base_uri": "https://localhost:8080/",
          "height": 52
        },
        "id": "Tz33zLoR1s4b",
        "outputId": "de774dbf-e4af-4019-cf9c-bd7ede3b4589"
      },
      "outputs": [
        {
          "name": "stdout",
          "output_type": "stream",
          "text": [
            "Enter a positive integer number: 8\n"
          ]
        },
        {
          "output_type": "display_data",
          "data": {
            "text/plain": [
              "\u001b[1m[\u001b[0m\u001b[1;36m0\u001b[0m, \u001b[1;36m1\u001b[0m, \u001b[1;36m1\u001b[0m, \u001b[1;36m2\u001b[0m, \u001b[1;36m3\u001b[0m, \u001b[1;36m5\u001b[0m, \u001b[1;36m8\u001b[0m, \u001b[1;36m13\u001b[0m\u001b[1m]\u001b[0m\n"
            ],
            "text/html": [
              "<pre style=\"white-space:pre;overflow-x:auto;line-height:normal;font-family:Menlo,'DejaVu Sans Mono',consolas,'Courier New',monospace\"><span style=\"font-weight: bold\">[</span><span style=\"color: #008080; text-decoration-color: #008080; font-weight: bold\">0</span>, <span style=\"color: #008080; text-decoration-color: #008080; font-weight: bold\">1</span>, <span style=\"color: #008080; text-decoration-color: #008080; font-weight: bold\">1</span>, <span style=\"color: #008080; text-decoration-color: #008080; font-weight: bold\">2</span>, <span style=\"color: #008080; text-decoration-color: #008080; font-weight: bold\">3</span>, <span style=\"color: #008080; text-decoration-color: #008080; font-weight: bold\">5</span>, <span style=\"color: #008080; text-decoration-color: #008080; font-weight: bold\">8</span>, <span style=\"color: #008080; text-decoration-color: #008080; font-weight: bold\">13</span><span style=\"font-weight: bold\">]</span>\n",
              "</pre>\n"
            ]
          },
          "metadata": {}
        }
      ],
      "source": [
        "def fibonacci_regular(n: int) -> list:\n",
        "    if n <= 0:\n",
        "        return []\n",
        "    elif n == 1:\n",
        "        return [0]\n",
        "    elif n == 2:\n",
        "        return [0, 1]\n",
        "\n",
        "    s = [0, 1]\n",
        "    fib_1, fib_2 = 0, 1\n",
        "    for i in range(2, n):\n",
        "        fib_1, fib_2 = fib_2, fib_1 + fib_2\n",
        "        s.append(fib_2)\n",
        "    return s\n",
        "\n",
        "import time\n",
        "MY_CACHE: dict[str, str] = {}\n",
        "\n",
        "def fibonacci_cached(n: int) -> list:\n",
        "    if n in MY_CACHE:\n",
        "        return MY_CACHE[n]\n",
        "\n",
        "    if n <= 0:\n",
        "        result = []\n",
        "    elif n == 1:\n",
        "        result = [0]\n",
        "    elif n == 2:\n",
        "        result = [0, 1]\n",
        "    else:\n",
        "        s = [0, 1]\n",
        "        fib_1, fib_2 = 0, 1\n",
        "        for i in range(2, n):\n",
        "            fib_1, fib_2 = fib_2, fib_1 + fib_2\n",
        "            s.append(fib_2)\n",
        "        result = s\n",
        "\n",
        "    MY_CACHE[n] = result\n",
        "    return result\n",
        "\n",
        "\n",
        "try:\n",
        "    n = int(input('Enter a positive integer number: '))\n",
        "    if n <= 0:\n",
        "        print('Error. Enter a positive integer.')\n",
        "    else:\n",
        "        start = time.time()\n",
        "        seq_cached = fibonacci_cached(n)\n",
        "        time_cached = time.time() - start\n",
        "\n",
        "        start = time.time()\n",
        "        seq_regular = fibonacci_regular(n)\n",
        "        time_regular = time.time() - start\n",
        "\n",
        "        print(f\"Sequence: {seq_cached}\")\n",
        "        print(f\"With cache: {time_cached:.6f} seconds\")\n",
        "        print(f\"Without cache: {time_regular:.6f} seconds\")\n",
        "\n",
        "except ValueError:\n",
        "    print('Error. Enter a positive integer.')"
      ]
    }
  ]
}