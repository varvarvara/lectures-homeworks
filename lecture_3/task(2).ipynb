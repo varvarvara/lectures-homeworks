{
  "nbformat": 4,
  "nbformat_minor": 0,
  "metadata": {
    "colab": {
      "provenance": []
    },
    "kernelspec": {
      "name": "python3",
      "display_name": "Python 3"
    },
    "language_info": {
      "name": "python"
    }
  },
  "cells": [
    {
      "cell_type": "code",
      "execution_count": 15,
      "metadata": {
        "colab": {
          "base_uri": "https://localhost:8080/"
        },
        "id": "Tz33zLoR1s4b",
        "outputId": "8749134e-a2a9-4c93-8ed6-1d75cf22f59e"
      },
      "outputs": [
        {
          "output_type": "stream",
          "name": "stdout",
          "text": [
            "Put the highest threshold of the list: 6000\n",
            "Put the the lowest thershold of the list: -2000\n",
            "The middle one in the created list is 2000\n",
            "Is your number bigger (>), smaller (<) or equal (=) to the middle one? \n",
            " If you don't want to continue - print exit:>\n",
            "The middle one in the created list is 4000\n",
            "Is your number bigger (>), smaller (<) or equal (=) to the middle one? \n",
            " If you don't want to continue - print exit:<\n",
            "The middle one in the created list is 3000\n",
            "Is your number bigger (>), smaller (<) or equal (=) to the middle one? \n",
            " If you don't want to continue - print exit:>\n",
            "The middle one in the created list is 3500\n",
            "Is your number bigger (>), smaller (<) or equal (=) to the middle one? \n",
            " If you don't want to continue - print exit:>\n",
            "The middle one in the created list is 3750\n",
            "Is your number bigger (>), smaller (<) or equal (=) to the middle one? \n",
            " If you don't want to continue - print exit:<\n",
            "The middle one in the created list is 3625\n",
            "Is your number bigger (>), smaller (<) or equal (=) to the middle one? \n",
            " If you don't want to continue - print exit:>\n",
            "The middle one in the created list is 3687\n",
            "Is your number bigger (>), smaller (<) or equal (=) to the middle one? \n",
            " If you don't want to continue - print exit:>\n",
            "The middle one in the created list is 3718\n",
            "Is your number bigger (>), smaller (<) or equal (=) to the middle one? \n",
            " If you don't want to continue - print exit:<\n",
            "The middle one in the created list is 3702\n",
            "Is your number bigger (>), smaller (<) or equal (=) to the middle one? \n",
            " If you don't want to continue - print exit:<\n",
            "The middle one in the created list is 3694\n",
            "Is your number bigger (>), smaller (<) or equal (=) to the middle one? \n",
            " If you don't want to continue - print exit:<\n",
            "The middle one in the created list is 3690\n",
            "Is your number bigger (>), smaller (<) or equal (=) to the middle one? \n",
            " If you don't want to continue - print exit:<\n",
            "The middle one in the created list is 3688\n",
            "Is your number bigger (>), smaller (<) or equal (=) to the middle one? \n",
            " If you don't want to continue - print exit:>\n",
            "The middle one in the created list is 3689\n",
            "Is your number bigger (>), smaller (<) or equal (=) to the middle one? \n",
            " If you don't want to continue - print exit:=\n",
            "Your number is 3689\n"
          ]
        }
      ],
      "source": [
        "# дан регион [-1000, 1000]\n",
        "# пользователь загадал любое целое число\n",
        "\n",
        "# задача программы замучить поль пользователя вопросами в виде:\n",
        "# взять середину региона и спросить больше или меньше выбранного числа\n",
        "# и так в цикле делить регион пополам, сужая область поиска\n",
        "# пока не найдём нужное число\n",
        "\n",
        "n_list = []\n",
        "\n",
        "high = int(input(\"Put the highest threshold of the list: \"))\n",
        "low = int(input(\"Put the the lowest thershold of the list: \"))\n",
        "\n",
        "n_list = list(range(low, high + 1))\n",
        "\n",
        "# print(n_list[0])\n",
        "# print(len(n_list))\n",
        "# print(n_list[-1])\n",
        "# print(n_list)\n",
        "\n",
        "new_high, new_low = high, low\n",
        "\n",
        "while new_low <= new_high:\n",
        "    middle = (new_high + new_low) // 2\n",
        "\n",
        "    print(\"The middle one in the created list is\", middle)\n",
        "\n",
        "    user_input =  input(\"Is your number bigger (>), smaller (<) or equal (=) to the middle one? \\n If you don't want to continue - print exit:\").strip()\n",
        "\n",
        "    if user_input == \"=\":\n",
        "        print (\"Your number is\", middle)\n",
        "        break\n",
        "\n",
        "    elif user_input == \">\":\n",
        "        new_low = middle + 1\n",
        "\n",
        "    elif user_input == \"<\":\n",
        "        new_high = middle - 1\n",
        "\n",
        "    elif user_input.lower == \"exit\":\n",
        "        print(\"Exit\")\n",
        "        exit()\n",
        "\n",
        "    else:\n",
        "        print(\"I will repeat for you again\\n Is your number bigger (>), smaller (<) or equal (=) to the middle one?:\")\n",
        "\n",
        "if new_low > new_high:\n",
        "    print(\"Something went wrong! Check your answers.\")\n",
        ""
      ]
    }
  ]
}