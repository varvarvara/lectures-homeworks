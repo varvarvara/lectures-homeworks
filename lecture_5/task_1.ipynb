{
  "nbformat": 4,
  "nbformat_minor": 0,
  "metadata": {
    "colab": {
      "provenance": []
    },
    "kernelspec": {
      "name": "python3",
      "display_name": "Python 3"
    },
    "language_info": {
      "name": "python"
    }
  },
  "cells": [
    {
      "cell_type": "code",
      "execution_count": 27,
      "metadata": {
        "colab": {
          "base_uri": "https://localhost:8080/",
          "height": 52
        },
        "id": "Tz33zLoR1s4b",
        "outputId": "a1997f0f-14fc-4153-a268-be5954e3f207"
      },
      "outputs": [
        {
          "name": "stdout",
          "output_type": "stream",
          "text": [
            "What is your name?: Varya\n"
          ]
        },
        {
          "output_type": "display_data",
          "data": {
            "text/plain": [
              "\u001b[1;36mHello\u001b[0m \u001b[1;35mvArYa\u001b[0m!\n"
            ],
            "text/html": [
              "<pre style=\"white-space:pre;overflow-x:auto;line-height:normal;font-family:Menlo,'DejaVu Sans Mono',consolas,'Courier New',monospace\"><span style=\"color: #008080; text-decoration-color: #008080; font-weight: bold\">Hello</span> <span style=\"color: #800080; text-decoration-color: #800080; font-weight: bold\">vArYa</span>!\n",
              "</pre>\n"
            ]
          },
          "metadata": {}
        }
      ],
      "source": [
        "import rich\n",
        "from rich import print\n",
        "\n",
        "def change_name(name: str) -> str:\n",
        "    letters = list(name.lower())\n",
        "    for i in range(1, len(letters), 2): #(start, stop, step)\n",
        "        letters[i] = letters[i].upper()\n",
        "    return ''.join(letters)\n",
        "\n",
        "def greet(name: str) -> None:\n",
        "    print(f\"[bold cyan]Hello[/bold cyan] [bold magenta]{name}[/bold magenta]!\")\n",
        "\n",
        "name = input('What is your name?: ')\n",
        "changed_name = change_name(name)\n",
        "greet(changed_name)\n",
        ""
      ]
    }
  ]
}